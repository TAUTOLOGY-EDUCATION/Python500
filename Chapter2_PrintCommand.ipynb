{
 "cells": [
  {
   "cell_type": "markdown",
   "metadata": {
    "id": "kWj3mNIqbXjr"
   },
   "source": [
    "# - Question 1"
   ]
  },
  {
   "cell_type": "markdown",
   "metadata": {
    "id": "Ll3_05yKbXju"
   },
   "source": [
    "### solution 1.1 (recommend)"
   ]
  },
  {
   "cell_type": "code",
   "execution_count": 1,
   "metadata": {
    "colab": {
     "base_uri": "https://localhost:8080/"
    },
    "executionInfo": {
     "elapsed": 1882,
     "status": "ok",
     "timestamp": 1616650769882,
     "user": {
      "displayName": "Tautology Madebyai",
      "photoUrl": "https://lh3.googleusercontent.com/a-/AOh14GgIuxJTOXeU2g-OcdBfWS1NSCgofk20ST_TdkDm=s64",
      "userId": "06969950300190082095"
     },
     "user_tz": -420
    },
    "id": "ELGmJDBKbXjv",
    "outputId": "5c53e293-0a56-42af-c3ea-d0675f97d127"
   },
   "outputs": [
    {
     "name": "stdout",
     "output_type": "stream",
     "text": [
      "Hello\n"
     ]
    }
   ],
   "source": [
    "print('Hello')"
   ]
  },
  {
   "cell_type": "markdown",
   "metadata": {
    "id": "-E2RRoN5bXjw"
   },
   "source": [
    "### solution 1.2"
   ]
  },
  {
   "cell_type": "code",
   "execution_count": 2,
   "metadata": {
    "colab": {
     "base_uri": "https://localhost:8080/"
    },
    "executionInfo": {
     "elapsed": 2244,
     "status": "ok",
     "timestamp": 1616650770265,
     "user": {
      "displayName": "Tautology Madebyai",
      "photoUrl": "https://lh3.googleusercontent.com/a-/AOh14GgIuxJTOXeU2g-OcdBfWS1NSCgofk20ST_TdkDm=s64",
      "userId": "06969950300190082095"
     },
     "user_tz": -420
    },
    "id": "VMQ56W0ZbXjw",
    "outputId": "d1333635-e1cf-4c1c-9da4-787615152fb1"
   },
   "outputs": [
    {
     "name": "stdout",
     "output_type": "stream",
     "text": [
      "Hello\n"
     ]
    }
   ],
   "source": [
    "print(\"Hello\")"
   ]
  },
  {
   "cell_type": "markdown",
   "metadata": {
    "id": "n5og4pq1bXjx"
   },
   "source": [
    "# - Question 2"
   ]
  },
  {
   "cell_type": "markdown",
   "metadata": {
    "id": "eOw2JTp9bXjy"
   },
   "source": [
    "### solution 2.1 (recommend)"
   ]
  },
  {
   "cell_type": "code",
   "execution_count": 3,
   "metadata": {
    "colab": {
     "base_uri": "https://localhost:8080/"
    },
    "executionInfo": {
     "elapsed": 2224,
     "status": "ok",
     "timestamp": 1616650770265,
     "user": {
      "displayName": "Tautology Madebyai",
      "photoUrl": "https://lh3.googleusercontent.com/a-/AOh14GgIuxJTOXeU2g-OcdBfWS1NSCgofk20ST_TdkDm=s64",
      "userId": "06969950300190082095"
     },
     "user_tz": -420
    },
    "id": "f2tBiNvLbXjy",
    "outputId": "c3567270-9cc5-4e88-9516-9126b1ec40f0"
   },
   "outputs": [
    {
     "name": "stdout",
     "output_type": "stream",
     "text": [
      "Hello World\n"
     ]
    }
   ],
   "source": [
    "print('Hello World')"
   ]
  },
  {
   "cell_type": "markdown",
   "metadata": {
    "id": "bPX4W-UQbXjz"
   },
   "source": [
    "### solution 2.2"
   ]
  },
  {
   "cell_type": "code",
   "execution_count": 4,
   "metadata": {
    "colab": {
     "base_uri": "https://localhost:8080/"
    },
    "executionInfo": {
     "elapsed": 2205,
     "status": "ok",
     "timestamp": 1616650770266,
     "user": {
      "displayName": "Tautology Madebyai",
      "photoUrl": "https://lh3.googleusercontent.com/a-/AOh14GgIuxJTOXeU2g-OcdBfWS1NSCgofk20ST_TdkDm=s64",
      "userId": "06969950300190082095"
     },
     "user_tz": -420
    },
    "id": "gbat7aRNbXjz",
    "outputId": "e3719f3c-d74d-4b04-905b-04e0e30fed62"
   },
   "outputs": [
    {
     "name": "stdout",
     "output_type": "stream",
     "text": [
      "Hello World\n"
     ]
    }
   ],
   "source": [
    "print(\"Hello World\")"
   ]
  },
  {
   "cell_type": "markdown",
   "metadata": {
    "id": "A4KEASoubXj0"
   },
   "source": [
    "# - Question 3"
   ]
  },
  {
   "cell_type": "markdown",
   "metadata": {
    "id": "rj2B-ZqhbXj0"
   },
   "source": [
    "### solution 3.1 (recommend)"
   ]
  },
  {
   "cell_type": "code",
   "execution_count": 5,
   "metadata": {
    "colab": {
     "base_uri": "https://localhost:8080/"
    },
    "executionInfo": {
     "elapsed": 2185,
     "status": "ok",
     "timestamp": 1616650770266,
     "user": {
      "displayName": "Tautology Madebyai",
      "photoUrl": "https://lh3.googleusercontent.com/a-/AOh14GgIuxJTOXeU2g-OcdBfWS1NSCgofk20ST_TdkDm=s64",
      "userId": "06969950300190082095"
     },
     "user_tz": -420
    },
    "id": "pZx0gZJybXj0",
    "outputId": "80ec41b3-1182-447c-9d69-4e3b70674be7"
   },
   "outputs": [
    {
     "name": "stdout",
     "output_type": "stream",
     "text": [
      "hello_python\n"
     ]
    }
   ],
   "source": [
    "print('hello_python')"
   ]
  },
  {
   "cell_type": "markdown",
   "metadata": {
    "id": "IJqosJ42bXj1"
   },
   "source": [
    "### solution 3.2"
   ]
  },
  {
   "cell_type": "code",
   "execution_count": 6,
   "metadata": {
    "colab": {
     "base_uri": "https://localhost:8080/"
    },
    "executionInfo": {
     "elapsed": 3075,
     "status": "ok",
     "timestamp": 1616650771175,
     "user": {
      "displayName": "Tautology Madebyai",
      "photoUrl": "https://lh3.googleusercontent.com/a-/AOh14GgIuxJTOXeU2g-OcdBfWS1NSCgofk20ST_TdkDm=s64",
      "userId": "06969950300190082095"
     },
     "user_tz": -420
    },
    "id": "3BUDZJogbXj1",
    "outputId": "c850b5a3-2b52-4550-a40e-f85ea383a745"
   },
   "outputs": [
    {
     "name": "stdout",
     "output_type": "stream",
     "text": [
      "hello_python\n"
     ]
    }
   ],
   "source": [
    "print(\"hello_python\")"
   ]
  },
  {
   "cell_type": "markdown",
   "metadata": {
    "id": "3QrEBb_kbXj2"
   },
   "source": [
    "# - Question 4"
   ]
  },
  {
   "cell_type": "markdown",
   "metadata": {
    "id": "poqjFUp3bXj2"
   },
   "source": [
    "### solution 4.1 (recommend)"
   ]
  },
  {
   "cell_type": "code",
   "execution_count": 7,
   "metadata": {
    "colab": {
     "base_uri": "https://localhost:8080/"
    },
    "executionInfo": {
     "elapsed": 3056,
     "status": "ok",
     "timestamp": 1616650771176,
     "user": {
      "displayName": "Tautology Madebyai",
      "photoUrl": "https://lh3.googleusercontent.com/a-/AOh14GgIuxJTOXeU2g-OcdBfWS1NSCgofk20ST_TdkDm=s64",
      "userId": "06969950300190082095"
     },
     "user_tz": -420
    },
    "id": "fKXwj6BPbXj3",
    "outputId": "567a9af8-2ef8-4409-d03c-5511419304ea"
   },
   "outputs": [
    {
     "name": "stdout",
     "output_type": "stream",
     "text": [
      "Coding Python is \"good for you\"\n"
     ]
    }
   ],
   "source": [
    "print('Coding Python is \"good for you\"')"
   ]
  },
  {
   "cell_type": "markdown",
   "metadata": {
    "id": "8HrwC9UKbXj3"
   },
   "source": [
    "### solution 4.2"
   ]
  },
  {
   "cell_type": "code",
   "execution_count": 8,
   "metadata": {
    "colab": {
     "base_uri": "https://localhost:8080/"
    },
    "executionInfo": {
     "elapsed": 3037,
     "status": "ok",
     "timestamp": 1616650771176,
     "user": {
      "displayName": "Tautology Madebyai",
      "photoUrl": "https://lh3.googleusercontent.com/a-/AOh14GgIuxJTOXeU2g-OcdBfWS1NSCgofk20ST_TdkDm=s64",
      "userId": "06969950300190082095"
     },
     "user_tz": -420
    },
    "id": "LNsWhrF0bXj4",
    "outputId": "61160801-a1c1-44b2-cdb6-53cf89b8d9e7"
   },
   "outputs": [
    {
     "name": "stdout",
     "output_type": "stream",
     "text": [
      "Coding Python is \"good for you\"\n"
     ]
    }
   ],
   "source": [
    "print(\"Coding Python is \\\"good for you\\\"\")"
   ]
  },
  {
   "cell_type": "markdown",
   "metadata": {
    "id": "WijPic6_bXj5"
   },
   "source": [
    "# - Question 5"
   ]
  },
  {
   "cell_type": "markdown",
   "metadata": {
    "id": "1UUOntceymJi"
   },
   "source": [
    "### solution 5.1 (recommend)"
   ]
  },
  {
   "cell_type": "code",
   "execution_count": 9,
   "metadata": {
    "colab": {
     "base_uri": "https://localhost:8080/"
    },
    "executionInfo": {
     "elapsed": 2998,
     "status": "ok",
     "timestamp": 1616650771176,
     "user": {
      "displayName": "Tautology Madebyai",
      "photoUrl": "https://lh3.googleusercontent.com/a-/AOh14GgIuxJTOXeU2g-OcdBfWS1NSCgofk20ST_TdkDm=s64",
      "userId": "06969950300190082095"
     },
     "user_tz": -420
    },
    "id": "hjpYwS-iymJs",
    "outputId": "350d48e0-86f4-49b4-ffdf-9cca67678482"
   },
   "outputs": [
    {
     "name": "stdout",
     "output_type": "stream",
     "text": [
      "That's so exciting\n"
     ]
    }
   ],
   "source": [
    "print(\"That's so exciting\")"
   ]
  },
  {
   "cell_type": "markdown",
   "metadata": {
    "id": "mpsFKVOtymJt"
   },
   "source": [
    "### solution 5.2"
   ]
  },
  {
   "cell_type": "code",
   "execution_count": 10,
   "metadata": {
    "colab": {
     "base_uri": "https://localhost:8080/"
    },
    "executionInfo": {
     "elapsed": 2978,
     "status": "ok",
     "timestamp": 1616650771176,
     "user": {
      "displayName": "Tautology Madebyai",
      "photoUrl": "https://lh3.googleusercontent.com/a-/AOh14GgIuxJTOXeU2g-OcdBfWS1NSCgofk20ST_TdkDm=s64",
      "userId": "06969950300190082095"
     },
     "user_tz": -420
    },
    "id": "drpwkQKgymJu",
    "outputId": "a6ece61d-fdbf-4af8-879b-94f8ba87de44"
   },
   "outputs": [
    {
     "name": "stdout",
     "output_type": "stream",
     "text": [
      "That's so exciting\n"
     ]
    }
   ],
   "source": [
    "print('That\\'s so exciting')"
   ]
  },
  {
   "cell_type": "markdown",
   "metadata": {
    "id": "btRXftFHbXj8"
   },
   "source": [
    "# - Question 6"
   ]
  },
  {
   "cell_type": "markdown",
   "metadata": {
    "id": "a63Tu5Kiy6J5"
   },
   "source": [
    "### solution 6.1 (recommend)"
   ]
  },
  {
   "cell_type": "code",
   "execution_count": 11,
   "metadata": {
    "colab": {
     "base_uri": "https://localhost:8080/"
    },
    "executionInfo": {
     "elapsed": 2959,
     "status": "ok",
     "timestamp": 1616650771177,
     "user": {
      "displayName": "Tautology Madebyai",
      "photoUrl": "https://lh3.googleusercontent.com/a-/AOh14GgIuxJTOXeU2g-OcdBfWS1NSCgofk20ST_TdkDm=s64",
      "userId": "06969950300190082095"
     },
     "user_tz": -420
    },
    "id": "SftVtdCxy6J7",
    "outputId": "b04360d5-3d46-492f-bb91-aad20bfdc76a"
   },
   "outputs": [
    {
     "name": "stdout",
     "output_type": "stream",
     "text": [
      "Python developer salary in 2021 is $110,840\n"
     ]
    }
   ],
   "source": [
    "print('Python developer salary in 2021 is $110,840')"
   ]
  },
  {
   "cell_type": "markdown",
   "metadata": {
    "id": "fHnAxo81y6J8"
   },
   "source": [
    "### solution 6.2"
   ]
  },
  {
   "cell_type": "code",
   "execution_count": 12,
   "metadata": {
    "colab": {
     "base_uri": "https://localhost:8080/"
    },
    "executionInfo": {
     "elapsed": 2940,
     "status": "ok",
     "timestamp": 1616650771177,
     "user": {
      "displayName": "Tautology Madebyai",
      "photoUrl": "https://lh3.googleusercontent.com/a-/AOh14GgIuxJTOXeU2g-OcdBfWS1NSCgofk20ST_TdkDm=s64",
      "userId": "06969950300190082095"
     },
     "user_tz": -420
    },
    "id": "U7qqxz6Wy6J8",
    "outputId": "21feb317-e358-4458-90cb-8ada5dc47622"
   },
   "outputs": [
    {
     "name": "stdout",
     "output_type": "stream",
     "text": [
      "Python developer salary in 2021 is $110,840\n"
     ]
    }
   ],
   "source": [
    "print(\"Python developer salary in 2021 is $110,840\")"
   ]
  },
  {
   "cell_type": "markdown",
   "metadata": {
    "id": "RxZEULGJbXj9"
   },
   "source": [
    "# - Question 7"
   ]
  },
  {
   "cell_type": "markdown",
   "metadata": {
    "id": "JXsT4UDFzQAc"
   },
   "source": [
    "### solution 7.1 (recommend)"
   ]
  },
  {
   "cell_type": "code",
   "execution_count": 13,
   "metadata": {
    "colab": {
     "base_uri": "https://localhost:8080/"
    },
    "executionInfo": {
     "elapsed": 2920,
     "status": "ok",
     "timestamp": 1616650771177,
     "user": {
      "displayName": "Tautology Madebyai",
      "photoUrl": "https://lh3.googleusercontent.com/a-/AOh14GgIuxJTOXeU2g-OcdBfWS1NSCgofk20ST_TdkDm=s64",
      "userId": "06969950300190082095"
     },
     "user_tz": -420
    },
    "id": "2j3sqrWvzQAd",
    "outputId": "b21061fb-a0b3-4ebc-f766-a1fd1eb1bb45"
   },
   "outputs": [
    {
     "name": "stdout",
     "output_type": "stream",
     "text": [
      "29.9% of programmer writed Python\n"
     ]
    }
   ],
   "source": [
    "print('29.9% of programmer writed Python')"
   ]
  },
  {
   "cell_type": "markdown",
   "metadata": {
    "id": "oZbLUTPfzQAd"
   },
   "source": [
    "### solution 7.2"
   ]
  },
  {
   "cell_type": "code",
   "execution_count": 14,
   "metadata": {
    "colab": {
     "base_uri": "https://localhost:8080/"
    },
    "executionInfo": {
     "elapsed": 2900,
     "status": "ok",
     "timestamp": 1616650771177,
     "user": {
      "displayName": "Tautology Madebyai",
      "photoUrl": "https://lh3.googleusercontent.com/a-/AOh14GgIuxJTOXeU2g-OcdBfWS1NSCgofk20ST_TdkDm=s64",
      "userId": "06969950300190082095"
     },
     "user_tz": -420
    },
    "id": "Z9_NmdzwzQAe",
    "outputId": "f9a63f99-5f4d-4fd3-f893-4076133adfc4"
   },
   "outputs": [
    {
     "name": "stdout",
     "output_type": "stream",
     "text": [
      "29.9% of programmer writed Python\n"
     ]
    }
   ],
   "source": [
    "print(\"29.9% of programmer writed Python\")"
   ]
  },
  {
   "cell_type": "markdown",
   "metadata": {
    "id": "7e-oJQ1jbXkA"
   },
   "source": [
    "# - Question 8"
   ]
  },
  {
   "cell_type": "markdown",
   "metadata": {
    "id": "Qi22IeM2bXj5"
   },
   "source": [
    "### solution 8.1 (recommend)"
   ]
  },
  {
   "cell_type": "code",
   "execution_count": 15,
   "metadata": {
    "colab": {
     "base_uri": "https://localhost:8080/"
    },
    "executionInfo": {
     "elapsed": 2881,
     "status": "ok",
     "timestamp": 1616650771177,
     "user": {
      "displayName": "Tautology Madebyai",
      "photoUrl": "https://lh3.googleusercontent.com/a-/AOh14GgIuxJTOXeU2g-OcdBfWS1NSCgofk20ST_TdkDm=s64",
      "userId": "06969950300190082095"
     },
     "user_tz": -420
    },
    "id": "z3-KAZl1bXj5",
    "outputId": "b54cc6b2-0c1d-45e8-f1af-2863d84518ea"
   },
   "outputs": [
    {
     "name": "stdout",
     "output_type": "stream",
     "text": [
      "My name is John\n"
     ]
    }
   ],
   "source": [
    "name = 'John'\n",
    "print('My name is', name)"
   ]
  },
  {
   "cell_type": "markdown",
   "metadata": {
    "id": "lBIinb7gbXj8"
   },
   "source": [
    "### solution 8.2"
   ]
  },
  {
   "cell_type": "code",
   "execution_count": 16,
   "metadata": {
    "colab": {
     "base_uri": "https://localhost:8080/"
    },
    "executionInfo": {
     "elapsed": 2861,
     "status": "ok",
     "timestamp": 1616650771177,
     "user": {
      "displayName": "Tautology Madebyai",
      "photoUrl": "https://lh3.googleusercontent.com/a-/AOh14GgIuxJTOXeU2g-OcdBfWS1NSCgofk20ST_TdkDm=s64",
      "userId": "06969950300190082095"
     },
     "user_tz": -420
    },
    "id": "4-C4jSmjbXj8",
    "outputId": "ab6afbc4-47e5-47c3-9053-d263b35fff56"
   },
   "outputs": [
    {
     "name": "stdout",
     "output_type": "stream",
     "text": [
      "My name is John\n"
     ]
    }
   ],
   "source": [
    "name = 'John'\n",
    "print('My name is ' + name)"
   ]
  },
  {
   "cell_type": "markdown",
   "metadata": {
    "id": "r1LvPBnrbXkC"
   },
   "source": [
    "# - Question 9"
   ]
  },
  {
   "cell_type": "markdown",
   "metadata": {
    "id": "F2ebddxabXj8"
   },
   "source": [
    "### solution 9.1 (recommend)"
   ]
  },
  {
   "cell_type": "code",
   "execution_count": 17,
   "metadata": {
    "colab": {
     "base_uri": "https://localhost:8080/"
    },
    "executionInfo": {
     "elapsed": 2841,
     "status": "ok",
     "timestamp": 1616650771177,
     "user": {
      "displayName": "Tautology Madebyai",
      "photoUrl": "https://lh3.googleusercontent.com/a-/AOh14GgIuxJTOXeU2g-OcdBfWS1NSCgofk20ST_TdkDm=s64",
      "userId": "06969950300190082095"
     },
     "user_tz": -420
    },
    "id": "chg9VyJLbXj9",
    "outputId": "0c1f6fd9-384d-49ae-b38d-1d0ae5f57916"
   },
   "outputs": [
    {
     "name": "stdout",
     "output_type": "stream",
     "text": [
      "My name is \"John\"\n"
     ]
    }
   ],
   "source": [
    "name = 'John'\n",
    "print('My name is \"%s\"' %name)"
   ]
  },
  {
   "cell_type": "markdown",
   "metadata": {
    "id": "Z4hk7HQ0bXj9"
   },
   "source": [
    "### solution 9.2"
   ]
  },
  {
   "cell_type": "code",
   "execution_count": 18,
   "metadata": {
    "colab": {
     "base_uri": "https://localhost:8080/"
    },
    "executionInfo": {
     "elapsed": 2822,
     "status": "ok",
     "timestamp": 1616650771177,
     "user": {
      "displayName": "Tautology Madebyai",
      "photoUrl": "https://lh3.googleusercontent.com/a-/AOh14GgIuxJTOXeU2g-OcdBfWS1NSCgofk20ST_TdkDm=s64",
      "userId": "06969950300190082095"
     },
     "user_tz": -420
    },
    "id": "uLCEQUgVbXj9",
    "outputId": "53d031db-5b06-4a74-fa96-b6dce584f147"
   },
   "outputs": [
    {
     "name": "stdout",
     "output_type": "stream",
     "text": [
      "My name is \"John\"\n"
     ]
    }
   ],
   "source": [
    "name = 'John'\n",
    "print('My name is \"' + name + '\"')"
   ]
  },
  {
   "cell_type": "markdown",
   "metadata": {
    "id": "WGRKK-E2bXkF"
   },
   "source": [
    "# - Question 10"
   ]
  },
  {
   "cell_type": "markdown",
   "metadata": {
    "id": "fB_RPiFYbXkS"
   },
   "source": [
    "### solution 10.1 (recommend)"
   ]
  },
  {
   "cell_type": "code",
   "execution_count": 19,
   "metadata": {
    "colab": {
     "base_uri": "https://localhost:8080/"
    },
    "executionInfo": {
     "elapsed": 2804,
     "status": "ok",
     "timestamp": 1616650771178,
     "user": {
      "displayName": "Tautology Madebyai",
      "photoUrl": "https://lh3.googleusercontent.com/a-/AOh14GgIuxJTOXeU2g-OcdBfWS1NSCgofk20ST_TdkDm=s64",
      "userId": "06969950300190082095"
     },
     "user_tz": -420
    },
    "id": "2Aiq1EhfbXkU",
    "outputId": "e57aefda-d744-4755-d75f-01e6a83555c3",
    "scrolled": true
   },
   "outputs": [
    {
     "name": "stdout",
     "output_type": "stream",
     "text": [
      "/\\/\\/\\\n"
     ]
    }
   ],
   "source": [
    "print('/\\\\/\\\\/\\\\')"
   ]
  },
  {
   "cell_type": "markdown",
   "metadata": {
    "id": "09wko0ADbXkU"
   },
   "source": [
    "### solution 10.2"
   ]
  },
  {
   "cell_type": "code",
   "execution_count": 20,
   "metadata": {
    "colab": {
     "base_uri": "https://localhost:8080/"
    },
    "executionInfo": {
     "elapsed": 2784,
     "status": "ok",
     "timestamp": 1616650771178,
     "user": {
      "displayName": "Tautology Madebyai",
      "photoUrl": "https://lh3.googleusercontent.com/a-/AOh14GgIuxJTOXeU2g-OcdBfWS1NSCgofk20ST_TdkDm=s64",
      "userId": "06969950300190082095"
     },
     "user_tz": -420
    },
    "id": "TyiiEV08bXkV",
    "outputId": "d5453ab4-96fc-4af0-8279-6a8368d987d4"
   },
   "outputs": [
    {
     "name": "stdout",
     "output_type": "stream",
     "text": [
      "/\\/\\/\\\n"
     ]
    }
   ],
   "source": [
    "print(\"/\\\\/\\\\/\\\\\")"
   ]
  },
  {
   "cell_type": "markdown",
   "metadata": {
    "id": "uRZrcxjXbXkJ"
   },
   "source": [
    "# - Question 11"
   ]
  },
  {
   "cell_type": "markdown",
   "metadata": {
    "id": "hINVAuexbXkL"
   },
   "source": [
    "### solution 11.1 (recommend)"
   ]
  },
  {
   "cell_type": "code",
   "execution_count": 21,
   "metadata": {
    "colab": {
     "base_uri": "https://localhost:8080/"
    },
    "executionInfo": {
     "elapsed": 2765,
     "status": "ok",
     "timestamp": 1616650771178,
     "user": {
      "displayName": "Tautology Madebyai",
      "photoUrl": "https://lh3.googleusercontent.com/a-/AOh14GgIuxJTOXeU2g-OcdBfWS1NSCgofk20ST_TdkDm=s64",
      "userId": "06969950300190082095"
     },
     "user_tz": -420
    },
    "id": "x9wiD2U-bXkM",
    "outputId": "1d98b467-ebcf-4a66-9e41-0ad3a1d45e35"
   },
   "outputs": [
    {
     "name": "stdout",
     "output_type": "stream",
     "text": [
      "a\n",
      "an\n",
      "ant\n"
     ]
    }
   ],
   "source": [
    "print('''a\n",
    "an\n",
    "ant''')"
   ]
  },
  {
   "cell_type": "markdown",
   "metadata": {
    "id": "kSF7mcFXbXkM"
   },
   "source": [
    "### solution 11.2"
   ]
  },
  {
   "cell_type": "code",
   "execution_count": 22,
   "metadata": {
    "colab": {
     "base_uri": "https://localhost:8080/"
    },
    "executionInfo": {
     "elapsed": 2745,
     "status": "ok",
     "timestamp": 1616650771178,
     "user": {
      "displayName": "Tautology Madebyai",
      "photoUrl": "https://lh3.googleusercontent.com/a-/AOh14GgIuxJTOXeU2g-OcdBfWS1NSCgofk20ST_TdkDm=s64",
      "userId": "06969950300190082095"
     },
     "user_tz": -420
    },
    "id": "5-4THBFybXkM",
    "outputId": "f67a3efc-9f9a-46d7-dbeb-98c31e024e47"
   },
   "outputs": [
    {
     "name": "stdout",
     "output_type": "stream",
     "text": [
      "a\n",
      "an\n",
      "ant\n"
     ]
    }
   ],
   "source": [
    "print(\"\"\"a\n",
    "an\n",
    "ant\"\"\")"
   ]
  },
  {
   "cell_type": "markdown",
   "metadata": {
    "id": "T39SjNiqbXkK"
   },
   "source": [
    "# - Question 12"
   ]
  },
  {
   "cell_type": "markdown",
   "metadata": {
    "id": "ItC3PumQbXkM"
   },
   "source": [
    "### solution 12.1 (recommend)"
   ]
  },
  {
   "cell_type": "code",
   "execution_count": 23,
   "metadata": {
    "colab": {
     "base_uri": "https://localhost:8080/"
    },
    "executionInfo": {
     "elapsed": 2725,
     "status": "ok",
     "timestamp": 1616650771178,
     "user": {
      "displayName": "Tautology Madebyai",
      "photoUrl": "https://lh3.googleusercontent.com/a-/AOh14GgIuxJTOXeU2g-OcdBfWS1NSCgofk20ST_TdkDm=s64",
      "userId": "06969950300190082095"
     },
     "user_tz": -420
    },
    "id": "PHsiyEt4bXkM",
    "outputId": "3cf89f81-5edd-49a4-bc2d-ae8c3cd795e5"
   },
   "outputs": [
    {
     "name": "stdout",
     "output_type": "stream",
     "text": [
      "\t*\n",
      "*\t*\t*\n",
      "\t*\n"
     ]
    }
   ],
   "source": [
    "print('''\\t*\n",
    "*\\t*\\t*\n",
    "\\t*''')"
   ]
  },
  {
   "cell_type": "markdown",
   "metadata": {
    "id": "8XUQ07fJbXkN"
   },
   "source": [
    "### solution 12.2"
   ]
  },
  {
   "cell_type": "code",
   "execution_count": 24,
   "metadata": {
    "colab": {
     "base_uri": "https://localhost:8080/"
    },
    "executionInfo": {
     "elapsed": 2706,
     "status": "ok",
     "timestamp": 1616650771178,
     "user": {
      "displayName": "Tautology Madebyai",
      "photoUrl": "https://lh3.googleusercontent.com/a-/AOh14GgIuxJTOXeU2g-OcdBfWS1NSCgofk20ST_TdkDm=s64",
      "userId": "06969950300190082095"
     },
     "user_tz": -420
    },
    "id": "qmBujOfRbXkN",
    "outputId": "963358df-14d8-493b-c514-050ed7afc91f"
   },
   "outputs": [
    {
     "name": "stdout",
     "output_type": "stream",
     "text": [
      "\t*\n",
      "*\t*\t*\n",
      "\t*\n"
     ]
    }
   ],
   "source": [
    "print(\"\"\"\\t*\n",
    "*\\t*\\t*\n",
    "\\t*\"\"\")"
   ]
  },
  {
   "cell_type": "code",
   "execution_count": 25,
   "metadata": {
    "executionInfo": {
     "elapsed": 2705,
     "status": "ok",
     "timestamp": 1616650771178,
     "user": {
      "displayName": "Tautology Madebyai",
      "photoUrl": "https://lh3.googleusercontent.com/a-/AOh14GgIuxJTOXeU2g-OcdBfWS1NSCgofk20ST_TdkDm=s64",
      "userId": "06969950300190082095"
     },
     "user_tz": -420
    },
    "id": "93LY-e-jbXkL"
   },
   "outputs": [],
   "source": [
    "a = 2\n",
    "b = 3"
   ]
  },
  {
   "cell_type": "markdown",
   "metadata": {
    "id": "YHrP7q0dbXkL"
   },
   "source": [
    "### solution 12.1 (recommend)"
   ]
  },
  {
   "cell_type": "code",
   "execution_count": 26,
   "metadata": {
    "colab": {
     "base_uri": "https://localhost:8080/"
    },
    "executionInfo": {
     "elapsed": 2686,
     "status": "ok",
     "timestamp": 1616650771178,
     "user": {
      "displayName": "Tautology Madebyai",
      "photoUrl": "https://lh3.googleusercontent.com/a-/AOh14GgIuxJTOXeU2g-OcdBfWS1NSCgofk20ST_TdkDm=s64",
      "userId": "06969950300190082095"
     },
     "user_tz": -420
    },
    "id": "gx4DjcjKbXkL",
    "outputId": "59f5b2b5-9a88-4473-9a3e-9b0de7221a66"
   },
   "outputs": [
    {
     "name": "stdout",
     "output_type": "stream",
     "text": [
      "2 x 3 = 6\n"
     ]
    }
   ],
   "source": [
    "print(a, 'x', b, '= 6')"
   ]
  },
  {
   "cell_type": "markdown",
   "metadata": {
    "id": "xrK4a1s7bXkL"
   },
   "source": [
    "### solution 12.2"
   ]
  },
  {
   "cell_type": "code",
   "execution_count": 27,
   "metadata": {
    "colab": {
     "base_uri": "https://localhost:8080/"
    },
    "executionInfo": {
     "elapsed": 2667,
     "status": "ok",
     "timestamp": 1616650771179,
     "user": {
      "displayName": "Tautology Madebyai",
      "photoUrl": "https://lh3.googleusercontent.com/a-/AOh14GgIuxJTOXeU2g-OcdBfWS1NSCgofk20ST_TdkDm=s64",
      "userId": "06969950300190082095"
     },
     "user_tz": -420
    },
    "id": "IIdZWT57bXkL",
    "outputId": "ab8eb830-6248-46f0-d0c8-ce51a415d3b3"
   },
   "outputs": [
    {
     "name": "stdout",
     "output_type": "stream",
     "text": [
      "2 x 3 = 6\n"
     ]
    }
   ],
   "source": [
    "print(a, \"x\", b, \"= 6\")"
   ]
  },
  {
   "cell_type": "markdown",
   "metadata": {
    "id": "VliAmrbBbXkL"
   },
   "source": [
    "# - Question 13"
   ]
  },
  {
   "cell_type": "markdown",
   "metadata": {
    "id": "huj6pP72bXkN"
   },
   "source": [
    "### solution 13.1 (recommend)"
   ]
  },
  {
   "cell_type": "code",
   "execution_count": 28,
   "metadata": {
    "colab": {
     "base_uri": "https://localhost:8080/"
    },
    "executionInfo": {
     "elapsed": 2647,
     "status": "ok",
     "timestamp": 1616650771179,
     "user": {
      "displayName": "Tautology Madebyai",
      "photoUrl": "https://lh3.googleusercontent.com/a-/AOh14GgIuxJTOXeU2g-OcdBfWS1NSCgofk20ST_TdkDm=s64",
      "userId": "06969950300190082095"
     },
     "user_tz": -420
    },
    "id": "KbgNeglxbXkN",
    "outputId": "788a4785-39a5-493c-bdbe-23a524335fc3"
   },
   "outputs": [
    {
     "name": "stdout",
     "output_type": "stream",
     "text": [
      "*\t+\t*\n",
      "+\t*\t+\n",
      "*\t+\t*\n"
     ]
    }
   ],
   "source": [
    "print('''*\\t+\\t*\n",
    "+\\t*\\t+\n",
    "*\\t+\\t*''')"
   ]
  },
  {
   "cell_type": "markdown",
   "metadata": {
    "id": "8V_Uv5N6bXkN"
   },
   "source": [
    "### solution 13.2"
   ]
  },
  {
   "cell_type": "code",
   "execution_count": 29,
   "metadata": {
    "colab": {
     "base_uri": "https://localhost:8080/"
    },
    "executionInfo": {
     "elapsed": 2628,
     "status": "ok",
     "timestamp": 1616650771179,
     "user": {
      "displayName": "Tautology Madebyai",
      "photoUrl": "https://lh3.googleusercontent.com/a-/AOh14GgIuxJTOXeU2g-OcdBfWS1NSCgofk20ST_TdkDm=s64",
      "userId": "06969950300190082095"
     },
     "user_tz": -420
    },
    "id": "abla7qW0bXkO",
    "outputId": "a37a3110-1e9d-4b86-d694-6e1e709a1f2f"
   },
   "outputs": [
    {
     "name": "stdout",
     "output_type": "stream",
     "text": [
      "*\t+\t*\n",
      "+\t*\t+\n",
      "*\t+\t*\n"
     ]
    }
   ],
   "source": [
    "print(\"\"\"*\\t+\\t*\n",
    "+\\t*\\t+\n",
    "*\\t+\\t*\"\"\")"
   ]
  },
  {
   "cell_type": "markdown",
   "metadata": {
    "id": "CI5ZKgHBbXkM"
   },
   "source": [
    "# - Question 14"
   ]
  },
  {
   "cell_type": "markdown",
   "metadata": {
    "id": "lDk9_3a1bXka"
   },
   "source": [
    "### solution 14.1 (recommend)"
   ]
  },
  {
   "cell_type": "code",
   "execution_count": 30,
   "metadata": {
    "colab": {
     "base_uri": "https://localhost:8080/"
    },
    "executionInfo": {
     "elapsed": 2608,
     "status": "ok",
     "timestamp": 1616650771179,
     "user": {
      "displayName": "Tautology Madebyai",
      "photoUrl": "https://lh3.googleusercontent.com/a-/AOh14GgIuxJTOXeU2g-OcdBfWS1NSCgofk20ST_TdkDm=s64",
      "userId": "06969950300190082095"
     },
     "user_tz": -420
    },
    "id": "6K5lLNmfbXka",
    "outputId": "d8b91766-b031-4f88-b924-0eeae6552dbf"
   },
   "outputs": [
    {
     "name": "stdout",
     "output_type": "stream",
     "text": [
      "Just because something\n",
      "thinks differently from you,\n",
      "does that mean it's not thinking ?\n"
     ]
    }
   ],
   "source": [
    "print(\"\"\"Just because something\n",
    "thinks differently from you,\n",
    "does that mean it's not thinking ?\"\"\")"
   ]
  },
  {
   "cell_type": "markdown",
   "metadata": {
    "id": "ackFwsjCbXkb"
   },
   "source": [
    "### solution 14.2"
   ]
  },
  {
   "cell_type": "code",
   "execution_count": 31,
   "metadata": {
    "colab": {
     "base_uri": "https://localhost:8080/"
    },
    "executionInfo": {
     "elapsed": 2589,
     "status": "ok",
     "timestamp": 1616650771179,
     "user": {
      "displayName": "Tautology Madebyai",
      "photoUrl": "https://lh3.googleusercontent.com/a-/AOh14GgIuxJTOXeU2g-OcdBfWS1NSCgofk20ST_TdkDm=s64",
      "userId": "06969950300190082095"
     },
     "user_tz": -420
    },
    "id": "BCnxG0uQbXkb",
    "outputId": "01a1195a-c3ca-4a18-8a44-487198b4aebb"
   },
   "outputs": [
    {
     "name": "stdout",
     "output_type": "stream",
     "text": [
      "Just because something\n",
      "thinks differently from you,\n",
      "does that mean it's not thinking ?\n"
     ]
    }
   ],
   "source": [
    "print('''Just because something\n",
    "thinks differently from you,\n",
    "does that mean it\\'s not thinking ?''')"
   ]
  },
  {
   "cell_type": "markdown",
   "metadata": {
    "id": "3KtT0B2ubXkN"
   },
   "source": [
    "# - Question 15"
   ]
  },
  {
   "cell_type": "markdown",
   "metadata": {
    "id": "8x8dOsDwbXkZ"
   },
   "source": [
    "### solution 15.1 (recommend)"
   ]
  },
  {
   "cell_type": "code",
   "execution_count": 32,
   "metadata": {
    "colab": {
     "base_uri": "https://localhost:8080/"
    },
    "executionInfo": {
     "elapsed": 2569,
     "status": "ok",
     "timestamp": 1616650771179,
     "user": {
      "displayName": "Tautology Madebyai",
      "photoUrl": "https://lh3.googleusercontent.com/a-/AOh14GgIuxJTOXeU2g-OcdBfWS1NSCgofk20ST_TdkDm=s64",
      "userId": "06969950300190082095"
     },
     "user_tz": -420
    },
    "id": "KNCh1pinbXka",
    "outputId": "54a8a889-ce32-4a2e-bc6b-ef89b8dd1b40"
   },
   "outputs": [
    {
     "name": "stdout",
     "output_type": "stream",
     "text": [
      "\\\t\t/\n",
      "\tX\n",
      "/\t\t\\\n"
     ]
    }
   ],
   "source": [
    "print('''\\\\\\t\\t/\n",
    "\\tX\n",
    "/\\t\\t\\\\''')"
   ]
  },
  {
   "cell_type": "markdown",
   "metadata": {
    "id": "Z3Yg-AcZbXka"
   },
   "source": [
    "### solution 15.2"
   ]
  },
  {
   "cell_type": "code",
   "execution_count": 33,
   "metadata": {
    "colab": {
     "base_uri": "https://localhost:8080/"
    },
    "executionInfo": {
     "elapsed": 2550,
     "status": "ok",
     "timestamp": 1616650771180,
     "user": {
      "displayName": "Tautology Madebyai",
      "photoUrl": "https://lh3.googleusercontent.com/a-/AOh14GgIuxJTOXeU2g-OcdBfWS1NSCgofk20ST_TdkDm=s64",
      "userId": "06969950300190082095"
     },
     "user_tz": -420
    },
    "id": "0fhbGnWbbXka",
    "outputId": "f2385dfb-92a0-4ea6-f3a4-df7b1724cafc"
   },
   "outputs": [
    {
     "name": "stdout",
     "output_type": "stream",
     "text": [
      "\\\t\t/\n",
      "\tX\n",
      "/\t\t\\\n"
     ]
    }
   ],
   "source": [
    "print(\"\"\"\\\\\\t\\t/\n",
    "\\tX\n",
    "/\\t\\t\\\\\"\"\")"
   ]
  },
  {
   "cell_type": "markdown",
   "metadata": {
    "id": "-vJaFuIAbXkO"
   },
   "source": [
    "# - Question 16"
   ]
  },
  {
   "cell_type": "markdown",
   "metadata": {
    "id": "14AYL5_6bXj-"
   },
   "source": [
    "### solution 16.1 (recommend)"
   ]
  },
  {
   "cell_type": "code",
   "execution_count": 34,
   "metadata": {
    "colab": {
     "base_uri": "https://localhost:8080/"
    },
    "executionInfo": {
     "elapsed": 2530,
     "status": "ok",
     "timestamp": 1616650771180,
     "user": {
      "displayName": "Tautology Madebyai",
      "photoUrl": "https://lh3.googleusercontent.com/a-/AOh14GgIuxJTOXeU2g-OcdBfWS1NSCgofk20ST_TdkDm=s64",
      "userId": "06969950300190082095"
     },
     "user_tz": -420
    },
    "id": "L6XwrbTfbXj-",
    "outputId": "2c3896e2-a05b-46ca-e520-04e019cd6388",
    "scrolled": true
   },
   "outputs": [
    {
     "name": "stdout",
     "output_type": "stream",
     "text": [
      "25\n"
     ]
    }
   ],
   "source": [
    "print(25)"
   ]
  },
  {
   "cell_type": "markdown",
   "metadata": {
    "id": "GiTp6MosbXj-"
   },
   "source": [
    "### solution 16.2"
   ]
  },
  {
   "cell_type": "code",
   "execution_count": 35,
   "metadata": {
    "colab": {
     "base_uri": "https://localhost:8080/"
    },
    "executionInfo": {
     "elapsed": 2510,
     "status": "ok",
     "timestamp": 1616650771180,
     "user": {
      "displayName": "Tautology Madebyai",
      "photoUrl": "https://lh3.googleusercontent.com/a-/AOh14GgIuxJTOXeU2g-OcdBfWS1NSCgofk20ST_TdkDm=s64",
      "userId": "06969950300190082095"
     },
     "user_tz": -420
    },
    "id": "NQJX641XbXj-",
    "outputId": "0d9edfb3-36e5-459b-9604-ee8de96cdfb1"
   },
   "outputs": [
    {
     "name": "stdout",
     "output_type": "stream",
     "text": [
      "25\n"
     ]
    }
   ],
   "source": [
    "print('%d' %25)"
   ]
  },
  {
   "cell_type": "markdown",
   "metadata": {
    "id": "M70AK8PkbXj_"
   },
   "source": [
    "### solution 16.3"
   ]
  },
  {
   "cell_type": "code",
   "execution_count": 36,
   "metadata": {
    "colab": {
     "base_uri": "https://localhost:8080/"
    },
    "executionInfo": {
     "elapsed": 2490,
     "status": "ok",
     "timestamp": 1616650771180,
     "user": {
      "displayName": "Tautology Madebyai",
      "photoUrl": "https://lh3.googleusercontent.com/a-/AOh14GgIuxJTOXeU2g-OcdBfWS1NSCgofk20ST_TdkDm=s64",
      "userId": "06969950300190082095"
     },
     "user_tz": -420
    },
    "id": "ZIZ1NI38bXj_",
    "outputId": "eb60ba62-297c-45df-b676-a127a677497b"
   },
   "outputs": [
    {
     "name": "stdout",
     "output_type": "stream",
     "text": [
      "25\n"
     ]
    }
   ],
   "source": [
    "print('%.0f' %25)"
   ]
  },
  {
   "cell_type": "markdown",
   "metadata": {
    "id": "H7KgJxvObXkP"
   },
   "source": [
    "# - Question 17"
   ]
  },
  {
   "cell_type": "markdown",
   "metadata": {
    "id": "gLHgjPgSbXkA"
   },
   "source": [
    "### solution 17.1 (recommend)"
   ]
  },
  {
   "cell_type": "code",
   "execution_count": 37,
   "metadata": {
    "colab": {
     "base_uri": "https://localhost:8080/"
    },
    "executionInfo": {
     "elapsed": 2470,
     "status": "ok",
     "timestamp": 1616650771180,
     "user": {
      "displayName": "Tautology Madebyai",
      "photoUrl": "https://lh3.googleusercontent.com/a-/AOh14GgIuxJTOXeU2g-OcdBfWS1NSCgofk20ST_TdkDm=s64",
      "userId": "06969950300190082095"
     },
     "user_tz": -420
    },
    "id": "dfcCKpfSbXkA",
    "outputId": "6f5e83bd-f14b-4c1c-b1a0-5ad3e0b9733a",
    "scrolled": true
   },
   "outputs": [
    {
     "name": "stdout",
     "output_type": "stream",
     "text": [
      "100.000000\n"
     ]
    }
   ],
   "source": [
    "print('%f' %100)"
   ]
  },
  {
   "cell_type": "markdown",
   "metadata": {
    "id": "VEpXZX44bXkB"
   },
   "source": [
    "### solution 17.2"
   ]
  },
  {
   "cell_type": "code",
   "execution_count": 38,
   "metadata": {
    "colab": {
     "base_uri": "https://localhost:8080/"
    },
    "executionInfo": {
     "elapsed": 2451,
     "status": "ok",
     "timestamp": 1616650771180,
     "user": {
      "displayName": "Tautology Madebyai",
      "photoUrl": "https://lh3.googleusercontent.com/a-/AOh14GgIuxJTOXeU2g-OcdBfWS1NSCgofk20ST_TdkDm=s64",
      "userId": "06969950300190082095"
     },
     "user_tz": -420
    },
    "id": "2iKg1zHlbXkB",
    "outputId": "3ae296fb-597c-4cc6-bd39-7e3c6684e195"
   },
   "outputs": [
    {
     "name": "stdout",
     "output_type": "stream",
     "text": [
      "100.000000\n"
     ]
    }
   ],
   "source": [
    "print('%.6f' %100)"
   ]
  },
  {
   "cell_type": "markdown",
   "metadata": {
    "id": "_-nFGwIHbXkQ"
   },
   "source": [
    "# - Question 18"
   ]
  },
  {
   "cell_type": "markdown",
   "metadata": {
    "id": "EcfYtFkvbXkC"
   },
   "source": [
    "### solution 18.1 (recommend)"
   ]
  },
  {
   "cell_type": "code",
   "execution_count": 39,
   "metadata": {
    "colab": {
     "base_uri": "https://localhost:8080/"
    },
    "executionInfo": {
     "elapsed": 3183,
     "status": "ok",
     "timestamp": 1616650771932,
     "user": {
      "displayName": "Tautology Madebyai",
      "photoUrl": "https://lh3.googleusercontent.com/a-/AOh14GgIuxJTOXeU2g-OcdBfWS1NSCgofk20ST_TdkDm=s64",
      "userId": "06969950300190082095"
     },
     "user_tz": -420
    },
    "id": "40zg70Y4bXkC",
    "outputId": "d13cbe7a-facf-4f45-cb64-90cd64b00668"
   },
   "outputs": [
    {
     "name": "stdout",
     "output_type": "stream",
     "text": [
      "3.141592653589793\n"
     ]
    }
   ],
   "source": [
    "from math import pi\n",
    "print('%.15f' %pi)"
   ]
  },
  {
   "cell_type": "markdown",
   "metadata": {
    "id": "ByCeprlKbXkD"
   },
   "source": [
    "### solution 18.2"
   ]
  },
  {
   "cell_type": "code",
   "execution_count": 40,
   "metadata": {
    "colab": {
     "base_uri": "https://localhost:8080/"
    },
    "executionInfo": {
     "elapsed": 3165,
     "status": "ok",
     "timestamp": 1616650771933,
     "user": {
      "displayName": "Tautology Madebyai",
      "photoUrl": "https://lh3.googleusercontent.com/a-/AOh14GgIuxJTOXeU2g-OcdBfWS1NSCgofk20ST_TdkDm=s64",
      "userId": "06969950300190082095"
     },
     "user_tz": -420
    },
    "id": "48d7XEUabXkD",
    "outputId": "164e0fc9-09d3-4c17-e770-2cbcbef8be21"
   },
   "outputs": [
    {
     "name": "stdout",
     "output_type": "stream",
     "text": [
      "3.141592653589793\n"
     ]
    }
   ],
   "source": [
    "import math\n",
    "print('%.15f' %math.pi)"
   ]
  },
  {
   "cell_type": "markdown",
   "metadata": {
    "id": "s6OtS_i_bXkS"
   },
   "source": [
    "# - Question 19"
   ]
  },
  {
   "cell_type": "markdown",
   "metadata": {
    "id": "al1Y26aebXkG"
   },
   "source": [
    "### solution 19.1 (recommend)"
   ]
  },
  {
   "cell_type": "code",
   "execution_count": 41,
   "metadata": {
    "colab": {
     "base_uri": "https://localhost:8080/"
    },
    "executionInfo": {
     "elapsed": 3146,
     "status": "ok",
     "timestamp": 1616650771933,
     "user": {
      "displayName": "Tautology Madebyai",
      "photoUrl": "https://lh3.googleusercontent.com/a-/AOh14GgIuxJTOXeU2g-OcdBfWS1NSCgofk20ST_TdkDm=s64",
      "userId": "06969950300190082095"
     },
     "user_tz": -420
    },
    "id": "4HMWLJFibXkH",
    "outputId": "4a7c57a5-df4a-4261-b1f1-48b6de615d26"
   },
   "outputs": [
    {
     "name": "stdout",
     "output_type": "stream",
     "text": [
      "2\n"
     ]
    }
   ],
   "source": [
    "a = 2\n",
    "print(a)"
   ]
  },
  {
   "cell_type": "markdown",
   "metadata": {
    "id": "rsXOY3NgbXkH"
   },
   "source": [
    "### solution 19.2"
   ]
  },
  {
   "cell_type": "code",
   "execution_count": 42,
   "metadata": {
    "colab": {
     "base_uri": "https://localhost:8080/"
    },
    "executionInfo": {
     "elapsed": 3127,
     "status": "ok",
     "timestamp": 1616650771933,
     "user": {
      "displayName": "Tautology Madebyai",
      "photoUrl": "https://lh3.googleusercontent.com/a-/AOh14GgIuxJTOXeU2g-OcdBfWS1NSCgofk20ST_TdkDm=s64",
      "userId": "06969950300190082095"
     },
     "user_tz": -420
    },
    "id": "3mCEpSU0bXkI",
    "outputId": "9a432f94-2a1f-4400-bf9b-acfab8007af7"
   },
   "outputs": [
    {
     "name": "stdout",
     "output_type": "stream",
     "text": [
      "2\n"
     ]
    }
   ],
   "source": [
    "a = 2\n",
    "print('%d' %a)"
   ]
  },
  {
   "cell_type": "markdown",
   "metadata": {
    "id": "iu-KMsGsbXkI"
   },
   "source": [
    "### solution 19.3"
   ]
  },
  {
   "cell_type": "code",
   "execution_count": 43,
   "metadata": {
    "colab": {
     "base_uri": "https://localhost:8080/"
    },
    "executionInfo": {
     "elapsed": 3108,
     "status": "ok",
     "timestamp": 1616650771933,
     "user": {
      "displayName": "Tautology Madebyai",
      "photoUrl": "https://lh3.googleusercontent.com/a-/AOh14GgIuxJTOXeU2g-OcdBfWS1NSCgofk20ST_TdkDm=s64",
      "userId": "06969950300190082095"
     },
     "user_tz": -420
    },
    "id": "mOPaIGfvbXkJ",
    "outputId": "c715b94f-1749-486b-d7bc-6e7c23ba1a7b"
   },
   "outputs": [
    {
     "name": "stdout",
     "output_type": "stream",
     "text": [
      "2\n"
     ]
    }
   ],
   "source": [
    "a = 2\n",
    "print('%.0f' %a)"
   ]
  },
  {
   "cell_type": "markdown",
   "metadata": {
    "id": "e7TczLPabXkV"
   },
   "source": [
    "# - Question 20"
   ]
  },
  {
   "cell_type": "markdown",
   "metadata": {
    "id": "Wx-QKmfBbXkJ"
   },
   "source": [
    "### solution 20.1 (recommend)"
   ]
  },
  {
   "cell_type": "code",
   "execution_count": 44,
   "metadata": {
    "colab": {
     "base_uri": "https://localhost:8080/"
    },
    "executionInfo": {
     "elapsed": 3088,
     "status": "ok",
     "timestamp": 1616650771933,
     "user": {
      "displayName": "Tautology Madebyai",
      "photoUrl": "https://lh3.googleusercontent.com/a-/AOh14GgIuxJTOXeU2g-OcdBfWS1NSCgofk20ST_TdkDm=s64",
      "userId": "06969950300190082095"
     },
     "user_tz": -420
    },
    "id": "MTwmm_uRbXkK",
    "outputId": "cdcb98db-de4d-4cb6-c3c7-20dda29417a8"
   },
   "outputs": [
    {
     "name": "stdout",
     "output_type": "stream",
     "text": [
      "12.5\n"
     ]
    }
   ],
   "source": [
    "a = 12.5\n",
    "print(a)"
   ]
  },
  {
   "cell_type": "markdown",
   "metadata": {
    "id": "jLgykxAJbXkK"
   },
   "source": [
    "### solution 20.2"
   ]
  },
  {
   "cell_type": "code",
   "execution_count": 45,
   "metadata": {
    "colab": {
     "base_uri": "https://localhost:8080/"
    },
    "executionInfo": {
     "elapsed": 3068,
     "status": "ok",
     "timestamp": 1616650771933,
     "user": {
      "displayName": "Tautology Madebyai",
      "photoUrl": "https://lh3.googleusercontent.com/a-/AOh14GgIuxJTOXeU2g-OcdBfWS1NSCgofk20ST_TdkDm=s64",
      "userId": "06969950300190082095"
     },
     "user_tz": -420
    },
    "id": "4EtRb4wWbXkK",
    "outputId": "47ae7d42-2523-4420-8c9f-938d18aeaa34"
   },
   "outputs": [
    {
     "name": "stdout",
     "output_type": "stream",
     "text": [
      "12.5\n"
     ]
    }
   ],
   "source": [
    "a = 12.5\n",
    "print('%.1f' %a)"
   ]
  },
  {
   "cell_type": "markdown",
   "metadata": {
    "id": "z2zrPn1ybXkX"
   },
   "source": [
    "# - Question 21"
   ]
  },
  {
   "cell_type": "markdown",
   "metadata": {
    "id": "k3Asnirw2g_D"
   },
   "source": [
    "### solution 21.1 (recommend)"
   ]
  },
  {
   "cell_type": "code",
   "execution_count": 46,
   "metadata": {
    "colab": {
     "base_uri": "https://localhost:8080/"
    },
    "executionInfo": {
     "elapsed": 3049,
     "status": "ok",
     "timestamp": 1616650771933,
     "user": {
      "displayName": "Tautology Madebyai",
      "photoUrl": "https://lh3.googleusercontent.com/a-/AOh14GgIuxJTOXeU2g-OcdBfWS1NSCgofk20ST_TdkDm=s64",
      "userId": "06969950300190082095"
     },
     "user_tz": -420
    },
    "id": "F8UBxYCV2g_G",
    "outputId": "757274c6-5c9f-4243-d4d1-2addd356f301"
   },
   "outputs": [
    {
     "name": "stdout",
     "output_type": "stream",
     "text": [
      "2 x 3 = 6\n"
     ]
    }
   ],
   "source": [
    "a = 2\n",
    "b = 3\n",
    "print(a, 'x', b, '= 6')"
   ]
  },
  {
   "cell_type": "markdown",
   "metadata": {
    "id": "f_DZtpUt2g_G"
   },
   "source": [
    "### solution 21.2"
   ]
  },
  {
   "cell_type": "code",
   "execution_count": 47,
   "metadata": {
    "colab": {
     "base_uri": "https://localhost:8080/"
    },
    "executionInfo": {
     "elapsed": 3030,
     "status": "ok",
     "timestamp": 1616650771933,
     "user": {
      "displayName": "Tautology Madebyai",
      "photoUrl": "https://lh3.googleusercontent.com/a-/AOh14GgIuxJTOXeU2g-OcdBfWS1NSCgofk20ST_TdkDm=s64",
      "userId": "06969950300190082095"
     },
     "user_tz": -420
    },
    "id": "goC00uSe2g_H",
    "outputId": "e31770e9-7086-4512-97fa-5319adf8a9a8"
   },
   "outputs": [
    {
     "name": "stdout",
     "output_type": "stream",
     "text": [
      "2 x 3 = 6\n"
     ]
    }
   ],
   "source": [
    "a = 2\n",
    "b = 3\n",
    "print('%d x %d = %d' %(a, b, a*b))"
   ]
  },
  {
   "cell_type": "markdown",
   "metadata": {
    "id": "Y_fVuqjPbXkY"
   },
   "source": [
    "# - Question 22"
   ]
  },
  {
   "cell_type": "markdown",
   "metadata": {
    "id": "zAtRz5wSbXkW"
   },
   "source": [
    "### solution 22.1 (recommend)"
   ]
  },
  {
   "cell_type": "code",
   "execution_count": 48,
   "metadata": {
    "colab": {
     "base_uri": "https://localhost:8080/"
    },
    "executionInfo": {
     "elapsed": 3011,
     "status": "ok",
     "timestamp": 1616650771934,
     "user": {
      "displayName": "Tautology Madebyai",
      "photoUrl": "https://lh3.googleusercontent.com/a-/AOh14GgIuxJTOXeU2g-OcdBfWS1NSCgofk20ST_TdkDm=s64",
      "userId": "06969950300190082095"
     },
     "user_tz": -420
    },
    "id": "cTx_NgM1bXkW",
    "outputId": "67f9230d-5cf1-4f32-ffe2-041be3160f6d"
   },
   "outputs": [
    {
     "name": "stdout",
     "output_type": "stream",
     "text": [
      "2 + 3 = 3 + 2 = 5\n"
     ]
    }
   ],
   "source": [
    "a = 2\n",
    "b = 3\n",
    "print('%d + %d = %d + %d = %d' %(a, b, b, a, a+b))"
   ]
  },
  {
   "cell_type": "markdown",
   "metadata": {
    "id": "oh_5odOGbXkW"
   },
   "source": [
    "### solution 22.2"
   ]
  },
  {
   "cell_type": "code",
   "execution_count": 49,
   "metadata": {
    "colab": {
     "base_uri": "https://localhost:8080/"
    },
    "executionInfo": {
     "elapsed": 2992,
     "status": "ok",
     "timestamp": 1616650771934,
     "user": {
      "displayName": "Tautology Madebyai",
      "photoUrl": "https://lh3.googleusercontent.com/a-/AOh14GgIuxJTOXeU2g-OcdBfWS1NSCgofk20ST_TdkDm=s64",
      "userId": "06969950300190082095"
     },
     "user_tz": -420
    },
    "id": "eo-rPLcgbXkX",
    "outputId": "7dea50fe-07fa-49a5-da75-d81d7031e113"
   },
   "outputs": [
    {
     "name": "stdout",
     "output_type": "stream",
     "text": [
      "2 + 3 = 3 + 2 = 5\n"
     ]
    }
   ],
   "source": [
    "a = 2\n",
    "b = 3\n",
    "print(a, '+', b, '=', b, '+', a, '=', a+b)"
   ]
  },
  {
   "cell_type": "markdown",
   "metadata": {
    "id": "x5z6kNbRbXkZ"
   },
   "source": [
    "# - Question 23"
   ]
  },
  {
   "cell_type": "markdown",
   "metadata": {
    "id": "8lctJxr6bXkX"
   },
   "source": [
    "### solution 23.1 (recommend)"
   ]
  },
  {
   "cell_type": "code",
   "execution_count": 50,
   "metadata": {
    "colab": {
     "base_uri": "https://localhost:8080/"
    },
    "executionInfo": {
     "elapsed": 2973,
     "status": "ok",
     "timestamp": 1616650771934,
     "user": {
      "displayName": "Tautology Madebyai",
      "photoUrl": "https://lh3.googleusercontent.com/a-/AOh14GgIuxJTOXeU2g-OcdBfWS1NSCgofk20ST_TdkDm=s64",
      "userId": "06969950300190082095"
     },
     "user_tz": -420
    },
    "id": "WvQ4Kk3XbXkX",
    "outputId": "c9ab3731-5fd0-4670-9648-448f7757ed6d"
   },
   "outputs": [
    {
     "name": "stdout",
     "output_type": "stream",
     "text": [
      "2*(3 + 5) = 2*3 + 2*5\n"
     ]
    }
   ],
   "source": [
    "a = 2\n",
    "b = 3\n",
    "c = 5\n",
    "print('%d*(%d + %d) = %d*%d + %d*%d' %(a, b, c, a, b, a, c))"
   ]
  },
  {
   "cell_type": "markdown",
   "metadata": {
    "id": "b14drDu_bXkX"
   },
   "source": [
    "### solution 23.2"
   ]
  },
  {
   "cell_type": "code",
   "execution_count": 51,
   "metadata": {
    "colab": {
     "base_uri": "https://localhost:8080/"
    },
    "executionInfo": {
     "elapsed": 2953,
     "status": "ok",
     "timestamp": 1616650771934,
     "user": {
      "displayName": "Tautology Madebyai",
      "photoUrl": "https://lh3.googleusercontent.com/a-/AOh14GgIuxJTOXeU2g-OcdBfWS1NSCgofk20ST_TdkDm=s64",
      "userId": "06969950300190082095"
     },
     "user_tz": -420
    },
    "id": "EJswS6JybXkX",
    "outputId": "29b7d99a-f392-493a-add0-af4f4c8d3b8b"
   },
   "outputs": [
    {
     "name": "stdout",
     "output_type": "stream",
     "text": [
      "2*(3 + 5) = 2*3 + 2*5\n"
     ]
    }
   ],
   "source": [
    "a = 2\n",
    "b = 3\n",
    "c = 5\n",
    "print(\"%d*(%d + %d) = %d*%d + %d*%d\" %(a, b, c, a, b, a, c))"
   ]
  },
  {
   "cell_type": "markdown",
   "metadata": {
    "id": "kyGgxaLXbXka"
   },
   "source": [
    "# - Question 24"
   ]
  },
  {
   "cell_type": "markdown",
   "metadata": {
    "id": "pa-gkEeXbXkY"
   },
   "source": [
    "### solution 24.1 (recommend)"
   ]
  },
  {
   "cell_type": "code",
   "execution_count": 52,
   "metadata": {
    "colab": {
     "base_uri": "https://localhost:8080/"
    },
    "executionInfo": {
     "elapsed": 2934,
     "status": "ok",
     "timestamp": 1616650771934,
     "user": {
      "displayName": "Tautology Madebyai",
      "photoUrl": "https://lh3.googleusercontent.com/a-/AOh14GgIuxJTOXeU2g-OcdBfWS1NSCgofk20ST_TdkDm=s64",
      "userId": "06969950300190082095"
     },
     "user_tz": -420
    },
    "id": "Tts7upEGbXkY",
    "outputId": "ba3020a6-bda2-4c1c-ac86-fdd92d6e241c"
   },
   "outputs": [
    {
     "name": "stdout",
     "output_type": "stream",
     "text": [
      "2.4 + 2.5 = 4.9000\n"
     ]
    }
   ],
   "source": [
    "a = 2.4\n",
    "b = 2.5\n",
    "print('%.1f + %.1f = %.4f' %(a, b, a+b))"
   ]
  },
  {
   "cell_type": "markdown",
   "metadata": {
    "id": "VrHeDgs_bXkY"
   },
   "source": [
    "### solution 24.2"
   ]
  },
  {
   "cell_type": "code",
   "execution_count": 53,
   "metadata": {
    "colab": {
     "base_uri": "https://localhost:8080/"
    },
    "executionInfo": {
     "elapsed": 2915,
     "status": "ok",
     "timestamp": 1616650771934,
     "user": {
      "displayName": "Tautology Madebyai",
      "photoUrl": "https://lh3.googleusercontent.com/a-/AOh14GgIuxJTOXeU2g-OcdBfWS1NSCgofk20ST_TdkDm=s64",
      "userId": "06969950300190082095"
     },
     "user_tz": -420
    },
    "id": "nWaQtcCobXkZ",
    "outputId": "54efb020-ed5a-4a3d-896b-c6ddedcb01fe"
   },
   "outputs": [
    {
     "name": "stdout",
     "output_type": "stream",
     "text": [
      "2.4 + 2.5 = 4.9000\n"
     ]
    }
   ],
   "source": [
    "a = 2.4\n",
    "b = 2.5\n",
    "print(\"%.1f + %.1f = %.4f\" %(a, b, a+b))"
   ]
  },
  {
   "cell_type": "markdown",
   "metadata": {
    "id": "aVzC1wp9bXkb"
   },
   "source": [
    "# - Question 25"
   ]
  },
  {
   "cell_type": "markdown",
   "metadata": {
    "id": "PUI4ZeXubXkd"
   },
   "source": [
    "### solution 25.1"
   ]
  },
  {
   "cell_type": "code",
   "execution_count": 54,
   "metadata": {
    "colab": {
     "base_uri": "https://localhost:8080/"
    },
    "executionInfo": {
     "elapsed": 2896,
     "status": "ok",
     "timestamp": 1616650771934,
     "user": {
      "displayName": "Tautology Madebyai",
      "photoUrl": "https://lh3.googleusercontent.com/a-/AOh14GgIuxJTOXeU2g-OcdBfWS1NSCgofk20ST_TdkDm=s64",
      "userId": "06969950300190082095"
     },
     "user_tz": -420
    },
    "id": "e-UdBZ7QbXkd",
    "outputId": "2dee84e1-806d-4bcd-f325-f5ef274fa486"
   },
   "outputs": [
    {
     "name": "stdout",
     "output_type": "stream",
     "text": [
      "5.0 - 2.00 = 3.0000\n"
     ]
    }
   ],
   "source": [
    "a = 5\n",
    "b = 2\n",
    "print('%.1f - %.2f = %.4f' %(a, b, a-b))"
   ]
  },
  {
   "cell_type": "markdown",
   "metadata": {
    "id": "-4g2L9A0bXkd"
   },
   "source": [
    "### solution 25.2"
   ]
  },
  {
   "cell_type": "code",
   "execution_count": 55,
   "metadata": {
    "colab": {
     "base_uri": "https://localhost:8080/"
    },
    "executionInfo": {
     "elapsed": 2877,
     "status": "ok",
     "timestamp": 1616650771934,
     "user": {
      "displayName": "Tautology Madebyai",
      "photoUrl": "https://lh3.googleusercontent.com/a-/AOh14GgIuxJTOXeU2g-OcdBfWS1NSCgofk20ST_TdkDm=s64",
      "userId": "06969950300190082095"
     },
     "user_tz": -420
    },
    "id": "QHajIhjTbXkd",
    "outputId": "441cebe8-6001-456f-e59b-a1eb06f2f918"
   },
   "outputs": [
    {
     "name": "stdout",
     "output_type": "stream",
     "text": [
      "5.0 - 2.00 = 3.0000\n"
     ]
    }
   ],
   "source": [
    "a = 5\n",
    "b = 2\n",
    "print(\"%.1f - %.2f = %.4f\" %(a, b, a-b))"
   ]
  },
  {
   "cell_type": "markdown",
   "metadata": {
    "id": "f1q3iMaNbXkc"
   },
   "source": [
    "# - Question 26"
   ]
  },
  {
   "cell_type": "markdown",
   "metadata": {
    "id": "dpQ8WL4rbXkO"
   },
   "source": [
    "### solution 26.1 (recommend)"
   ]
  },
  {
   "cell_type": "code",
   "execution_count": 56,
   "metadata": {
    "colab": {
     "base_uri": "https://localhost:8080/"
    },
    "executionInfo": {
     "elapsed": 2859,
     "status": "ok",
     "timestamp": 1616650771935,
     "user": {
      "displayName": "Tautology Madebyai",
      "photoUrl": "https://lh3.googleusercontent.com/a-/AOh14GgIuxJTOXeU2g-OcdBfWS1NSCgofk20ST_TdkDm=s64",
      "userId": "06969950300190082095"
     },
     "user_tz": -420
    },
    "id": "m7lZncn4bXkO",
    "outputId": "4c380d67-564f-4709-905b-7e29d2a19c2f"
   },
   "outputs": [
    {
     "name": "stdout",
     "output_type": "stream",
     "text": [
      "I was born on December 25\n"
     ]
    }
   ],
   "source": [
    "birthday = 25\n",
    "print('I was born on December', birthday)"
   ]
  },
  {
   "cell_type": "markdown",
   "metadata": {
    "id": "Js3CoazfbXkO"
   },
   "source": [
    "### solution 26.2"
   ]
  },
  {
   "cell_type": "code",
   "execution_count": 57,
   "metadata": {
    "colab": {
     "base_uri": "https://localhost:8080/"
    },
    "executionInfo": {
     "elapsed": 2840,
     "status": "ok",
     "timestamp": 1616650771935,
     "user": {
      "displayName": "Tautology Madebyai",
      "photoUrl": "https://lh3.googleusercontent.com/a-/AOh14GgIuxJTOXeU2g-OcdBfWS1NSCgofk20ST_TdkDm=s64",
      "userId": "06969950300190082095"
     },
     "user_tz": -420
    },
    "id": "zDVuHGPwbXkO",
    "outputId": "e3cba146-751c-487e-8e3e-0d4f67b99cf8"
   },
   "outputs": [
    {
     "name": "stdout",
     "output_type": "stream",
     "text": [
      "I was born on December 25\n"
     ]
    }
   ],
   "source": [
    "birthday = 25\n",
    "print('I was born on December %d' %birthday)"
   ]
  },
  {
   "cell_type": "markdown",
   "metadata": {
    "id": "SpWPIUAibXkc"
   },
   "source": [
    "# - Question 27"
   ]
  },
  {
   "cell_type": "markdown",
   "metadata": {
    "id": "i64DQp8cbXkb"
   },
   "source": [
    "### solution 27.1 (recommend)"
   ]
  },
  {
   "cell_type": "code",
   "execution_count": 58,
   "metadata": {
    "colab": {
     "base_uri": "https://localhost:8080/"
    },
    "executionInfo": {
     "elapsed": 2820,
     "status": "ok",
     "timestamp": 1616650771935,
     "user": {
      "displayName": "Tautology Madebyai",
      "photoUrl": "https://lh3.googleusercontent.com/a-/AOh14GgIuxJTOXeU2g-OcdBfWS1NSCgofk20ST_TdkDm=s64",
      "userId": "06969950300190082095"
     },
     "user_tz": -420
    },
    "id": "37udwfjxbXkb",
    "outputId": "5e1c8392-c7af-423d-a4b9-5a0225ad0e9c"
   },
   "outputs": [
    {
     "name": "stdout",
     "output_type": "stream",
     "text": [
      "5 times 100 is equal to 500\n"
     ]
    }
   ],
   "source": [
    "a = 5\n",
    "b = 100\n",
    "print('%d times %d is equal to %d' %(a, b, a*b))"
   ]
  },
  {
   "cell_type": "markdown",
   "metadata": {
    "id": "l9MlqKBebXkc"
   },
   "source": [
    "### solution 27.2"
   ]
  },
  {
   "cell_type": "code",
   "execution_count": 59,
   "metadata": {
    "colab": {
     "base_uri": "https://localhost:8080/"
    },
    "executionInfo": {
     "elapsed": 2801,
     "status": "ok",
     "timestamp": 1616650771935,
     "user": {
      "displayName": "Tautology Madebyai",
      "photoUrl": "https://lh3.googleusercontent.com/a-/AOh14GgIuxJTOXeU2g-OcdBfWS1NSCgofk20ST_TdkDm=s64",
      "userId": "06969950300190082095"
     },
     "user_tz": -420
    },
    "id": "QqoG0YCUbXkc",
    "outputId": "2418b0d6-719d-4d1f-ef78-73876c2588da"
   },
   "outputs": [
    {
     "name": "stdout",
     "output_type": "stream",
     "text": [
      "5 times 100 is equal to 500\n"
     ]
    }
   ],
   "source": [
    "a = 5\n",
    "b = 100\n",
    "print(a, 'times', b, 'is equal to', a*b)"
   ]
  },
  {
   "cell_type": "markdown",
   "metadata": {
    "id": "gk4-INC4bXkd"
   },
   "source": [
    "# - Question 28"
   ]
  },
  {
   "cell_type": "markdown",
   "metadata": {
    "id": "frC-riyJbXkd"
   },
   "source": [
    "### solution 28.1"
   ]
  },
  {
   "cell_type": "code",
   "execution_count": 60,
   "metadata": {
    "colab": {
     "base_uri": "https://localhost:8080/"
    },
    "executionInfo": {
     "elapsed": 2781,
     "status": "ok",
     "timestamp": 1616650771935,
     "user": {
      "displayName": "Tautology Madebyai",
      "photoUrl": "https://lh3.googleusercontent.com/a-/AOh14GgIuxJTOXeU2g-OcdBfWS1NSCgofk20ST_TdkDm=s64",
      "userId": "06969950300190082095"
     },
     "user_tz": -420
    },
    "id": "FFuIfRNfbXkd",
    "outputId": "3c7a90a3-21ba-4846-935f-a75feb4ceb87"
   },
   "outputs": [
    {
     "name": "stdout",
     "output_type": "stream",
     "text": [
      "He has 3.50 dollars more than me\n"
     ]
    }
   ],
   "source": [
    "a = 3.5\n",
    "print('He has %.2f dollars more than me' %a)"
   ]
  },
  {
   "cell_type": "markdown",
   "metadata": {
    "id": "ZSPwwlDBbXkd"
   },
   "source": [
    "### solution 28.2"
   ]
  },
  {
   "cell_type": "code",
   "execution_count": 61,
   "metadata": {
    "colab": {
     "base_uri": "https://localhost:8080/"
    },
    "executionInfo": {
     "elapsed": 2762,
     "status": "ok",
     "timestamp": 1616650771935,
     "user": {
      "displayName": "Tautology Madebyai",
      "photoUrl": "https://lh3.googleusercontent.com/a-/AOh14GgIuxJTOXeU2g-OcdBfWS1NSCgofk20ST_TdkDm=s64",
      "userId": "06969950300190082095"
     },
     "user_tz": -420
    },
    "id": "Y2iMC6RlbXkd",
    "outputId": "cd189f82-4740-4cc6-eb70-abf7487fb6ef"
   },
   "outputs": [
    {
     "name": "stdout",
     "output_type": "stream",
     "text": [
      "He has 3.50 dollars more than me\n"
     ]
    }
   ],
   "source": [
    "a = 3.5\n",
    "print(\"He has %.2f dollars more than me\" %a)"
   ]
  },
  {
   "cell_type": "markdown",
   "metadata": {
    "id": "yzlqJzBfbXkd"
   },
   "source": [
    "# - Question 29"
   ]
  },
  {
   "cell_type": "markdown",
   "metadata": {
    "id": "B1MKJZtwbXkd"
   },
   "source": [
    "### solution 29.1 (recommend)"
   ]
  },
  {
   "cell_type": "code",
   "execution_count": 62,
   "metadata": {
    "colab": {
     "base_uri": "https://localhost:8080/"
    },
    "executionInfo": {
     "elapsed": 2743,
     "status": "ok",
     "timestamp": 1616650771935,
     "user": {
      "displayName": "Tautology Madebyai",
      "photoUrl": "https://lh3.googleusercontent.com/a-/AOh14GgIuxJTOXeU2g-OcdBfWS1NSCgofk20ST_TdkDm=s64",
      "userId": "06969950300190082095"
     },
     "user_tz": -420
    },
    "id": "o-8I33AabXke",
    "outputId": "e28cf1d9-fb69-41a1-b752-cb81a1ead566"
   },
   "outputs": [
    {
     "name": "stdout",
     "output_type": "stream",
     "text": [
      "I earn 5 %\n"
     ]
    }
   ],
   "source": [
    "a = 5\n",
    "print('I earn %d %%' %a)"
   ]
  },
  {
   "cell_type": "markdown",
   "metadata": {
    "id": "LVtT9PvfbXke"
   },
   "source": [
    "### solution 29.2"
   ]
  },
  {
   "cell_type": "code",
   "execution_count": 63,
   "metadata": {
    "colab": {
     "base_uri": "https://localhost:8080/"
    },
    "executionInfo": {
     "elapsed": 2724,
     "status": "ok",
     "timestamp": 1616650771935,
     "user": {
      "displayName": "Tautology Madebyai",
      "photoUrl": "https://lh3.googleusercontent.com/a-/AOh14GgIuxJTOXeU2g-OcdBfWS1NSCgofk20ST_TdkDm=s64",
      "userId": "06969950300190082095"
     },
     "user_tz": -420
    },
    "id": "X13W5Q-zbXke",
    "outputId": "c1721ddd-e80c-4488-9fc2-d4fe2f0d1d2d"
   },
   "outputs": [
    {
     "name": "stdout",
     "output_type": "stream",
     "text": [
      "I earn 5 %\n"
     ]
    }
   ],
   "source": [
    "a = 5\n",
    "print(\"I earn %d %%\" %a)"
   ]
  },
  {
   "cell_type": "markdown",
   "metadata": {
    "id": "8nvpKyTybXke"
   },
   "source": [
    "# - Question 30"
   ]
  },
  {
   "cell_type": "markdown",
   "metadata": {
    "id": "ublRqqYebXke"
   },
   "source": [
    "### solution 30.1 (recommend)"
   ]
  },
  {
   "cell_type": "code",
   "execution_count": 64,
   "metadata": {
    "colab": {
     "base_uri": "https://localhost:8080/"
    },
    "executionInfo": {
     "elapsed": 2715,
     "status": "ok",
     "timestamp": 1616650771937,
     "user": {
      "displayName": "Tautology Madebyai",
      "photoUrl": "https://lh3.googleusercontent.com/a-/AOh14GgIuxJTOXeU2g-OcdBfWS1NSCgofk20ST_TdkDm=s64",
      "userId": "06969950300190082095"
     },
     "user_tz": -420
    },
    "id": "ukWzr8sObXke",
    "outputId": "997abd62-939f-41f5-8897-1f6332c6b393"
   },
   "outputs": [
    {
     "name": "stdout",
     "output_type": "stream",
     "text": [
      "Yesterday I lost 2 % today I made 3.50 % profit\n"
     ]
    }
   ],
   "source": [
    "a = 2\n",
    "b = 3.5\n",
    "print('Yesterday I lost %d %% today I made %.2f %% profit' %(a, b))"
   ]
  },
  {
   "cell_type": "markdown",
   "metadata": {
    "id": "aNCXTX6JbXkf"
   },
   "source": [
    "### solution 30.2"
   ]
  },
  {
   "cell_type": "code",
   "execution_count": 65,
   "metadata": {
    "colab": {
     "base_uri": "https://localhost:8080/"
    },
    "executionInfo": {
     "elapsed": 2703,
     "status": "ok",
     "timestamp": 1616650771937,
     "user": {
      "displayName": "Tautology Madebyai",
      "photoUrl": "https://lh3.googleusercontent.com/a-/AOh14GgIuxJTOXeU2g-OcdBfWS1NSCgofk20ST_TdkDm=s64",
      "userId": "06969950300190082095"
     },
     "user_tz": -420
    },
    "id": "Cnq3wxbKbXkf",
    "outputId": "f0851aa9-b39e-47c9-a38f-79e1983ca7bf"
   },
   "outputs": [
    {
     "name": "stdout",
     "output_type": "stream",
     "text": [
      "Yesterday I lost 2 % today I made 3.50 % profit\n"
     ]
    }
   ],
   "source": [
    "a = 2\n",
    "b = 3.5\n",
    "print(\"Yesterday I lost %d %% today I made %.2f %% profit\" %(a, b))"
   ]
  }
 ],
 "metadata": {
  "colab": {
   "collapsed_sections": [],
   "name": "Chapter2_PrintCommand.ipynb",
   "provenance": []
  },
  "kernelspec": {
   "display_name": "Python 3",
   "language": "python",
   "name": "python3"
  },
  "language_info": {
   "codemirror_mode": {
    "name": "ipython",
    "version": 3
   },
   "file_extension": ".py",
   "mimetype": "text/x-python",
   "name": "python",
   "nbconvert_exporter": "python",
   "pygments_lexer": "ipython3",
   "version": "3.8.5"
  }
 },
 "nbformat": 4,
 "nbformat_minor": 1
}
