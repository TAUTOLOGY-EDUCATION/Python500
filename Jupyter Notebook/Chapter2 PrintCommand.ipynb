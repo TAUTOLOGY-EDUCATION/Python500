{
  "nbformat": 4,
  "nbformat_minor": 0,
  "metadata": {
    "colab": {
      "name": "Chapter2 PrintCommand.ipynb",
      "provenance": [],
      "collapsed_sections": []
    },
    "kernelspec": {
      "display_name": "Python 3",
      "language": "python",
      "name": "python3"
    },
    "language_info": {
      "codemirror_mode": {
        "name": "ipython",
        "version": 3
      },
      "file_extension": ".py",
      "mimetype": "text/x-python",
      "name": "python",
      "nbconvert_exporter": "python",
      "pygments_lexer": "ipython3",
      "version": "3.8.5"
    }
  },
  "cells": [
    {
      "cell_type": "markdown",
      "metadata": {
        "id": "kWj3mNIqbXjr"
      },
      "source": [
        "# Question 1"
      ]
    },
    {
      "cell_type": "markdown",
      "metadata": {
        "id": "Ll3_05yKbXju"
      },
      "source": [
        "### solution 1.1 (recommend)"
      ]
    },
    {
      "cell_type": "code",
      "metadata": {
        "colab": {
          "base_uri": "https://localhost:8080/"
        },
        "id": "ELGmJDBKbXjv",
        "outputId": "3865f5a1-e0d0-4af4-9314-ad24cb0b2bc2"
      },
      "source": [
        "print('Hello')"
      ],
      "execution_count": null,
      "outputs": [
        {
          "output_type": "stream",
          "name": "stdout",
          "text": [
            "Hello\n"
          ]
        }
      ]
    },
    {
      "cell_type": "markdown",
      "metadata": {
        "id": "-E2RRoN5bXjw"
      },
      "source": [
        "### solution 1.2"
      ]
    },
    {
      "cell_type": "code",
      "metadata": {
        "colab": {
          "base_uri": "https://localhost:8080/"
        },
        "id": "VMQ56W0ZbXjw",
        "outputId": "7c4602b5-4c61-45f3-be3f-e26e163d27cd"
      },
      "source": [
        "print(\"Hello\")"
      ],
      "execution_count": null,
      "outputs": [
        {
          "output_type": "stream",
          "name": "stdout",
          "text": [
            "Hello\n"
          ]
        }
      ]
    },
    {
      "cell_type": "markdown",
      "metadata": {
        "id": "n5og4pq1bXjx"
      },
      "source": [
        "# Question 2"
      ]
    },
    {
      "cell_type": "markdown",
      "metadata": {
        "id": "eOw2JTp9bXjy"
      },
      "source": [
        "### solution 2.1 (recommend)"
      ]
    },
    {
      "cell_type": "code",
      "metadata": {
        "colab": {
          "base_uri": "https://localhost:8080/"
        },
        "id": "f2tBiNvLbXjy",
        "outputId": "5d274e41-1090-40cc-fd71-69290a30a690"
      },
      "source": [
        "print('Hello World')"
      ],
      "execution_count": null,
      "outputs": [
        {
          "output_type": "stream",
          "name": "stdout",
          "text": [
            "Hello World\n"
          ]
        }
      ]
    },
    {
      "cell_type": "markdown",
      "metadata": {
        "id": "bPX4W-UQbXjz"
      },
      "source": [
        "### solution 2.2"
      ]
    },
    {
      "cell_type": "code",
      "metadata": {
        "colab": {
          "base_uri": "https://localhost:8080/"
        },
        "id": "gbat7aRNbXjz",
        "outputId": "349e660e-2e70-4eb1-a118-cd2783554075"
      },
      "source": [
        "print(\"Hello World\")"
      ],
      "execution_count": null,
      "outputs": [
        {
          "output_type": "stream",
          "name": "stdout",
          "text": [
            "Hello World\n"
          ]
        }
      ]
    },
    {
      "cell_type": "markdown",
      "metadata": {
        "id": "A4KEASoubXj0"
      },
      "source": [
        "# - Question 3"
      ]
    },
    {
      "cell_type": "markdown",
      "metadata": {
        "id": "rj2B-ZqhbXj0"
      },
      "source": [
        "### solution 3.1 (recommend)"
      ]
    },
    {
      "cell_type": "code",
      "metadata": {
        "colab": {
          "base_uri": "https://localhost:8080/"
        },
        "id": "pZx0gZJybXj0",
        "outputId": "5f8a5269-ae2e-4e42-b0c7-c4bec6a9460f"
      },
      "source": [
        "print('hello_python')"
      ],
      "execution_count": null,
      "outputs": [
        {
          "output_type": "stream",
          "name": "stdout",
          "text": [
            "hello_python\n"
          ]
        }
      ]
    },
    {
      "cell_type": "markdown",
      "metadata": {
        "id": "IJqosJ42bXj1"
      },
      "source": [
        "### solution 3.2"
      ]
    },
    {
      "cell_type": "code",
      "metadata": {
        "colab": {
          "base_uri": "https://localhost:8080/"
        },
        "id": "3BUDZJogbXj1",
        "outputId": "505525c9-17f3-4ef2-d8cf-933c8928ec0c"
      },
      "source": [
        "print(\"hello_python\")"
      ],
      "execution_count": null,
      "outputs": [
        {
          "output_type": "stream",
          "name": "stdout",
          "text": [
            "hello_python\n"
          ]
        }
      ]
    },
    {
      "cell_type": "markdown",
      "metadata": {
        "id": "3QrEBb_kbXj2"
      },
      "source": [
        "# - Question 4"
      ]
    },
    {
      "cell_type": "markdown",
      "metadata": {
        "id": "poqjFUp3bXj2"
      },
      "source": [
        "### solution 4.1 (recommend)"
      ]
    },
    {
      "cell_type": "code",
      "metadata": {
        "colab": {
          "base_uri": "https://localhost:8080/"
        },
        "id": "fKXwj6BPbXj3",
        "outputId": "205a9f92-bf47-4107-b628-b0b2f9f29a2c"
      },
      "source": [
        "print('Coding Python is \"good for you\"')"
      ],
      "execution_count": null,
      "outputs": [
        {
          "output_type": "stream",
          "name": "stdout",
          "text": [
            "Coding Python is \"good for you\"\n"
          ]
        }
      ]
    },
    {
      "cell_type": "markdown",
      "metadata": {
        "id": "8HrwC9UKbXj3"
      },
      "source": [
        "### solution 4.2"
      ]
    },
    {
      "cell_type": "code",
      "metadata": {
        "colab": {
          "base_uri": "https://localhost:8080/"
        },
        "id": "LNsWhrF0bXj4",
        "outputId": "f5c7f0c7-0eff-4d17-f41b-9ba9acb8f2c1"
      },
      "source": [
        "print(\"Coding Python is \\\"good for you\\\"\")"
      ],
      "execution_count": null,
      "outputs": [
        {
          "output_type": "stream",
          "name": "stdout",
          "text": [
            "Coding Python is \"good for you\"\n"
          ]
        }
      ]
    },
    {
      "cell_type": "markdown",
      "metadata": {
        "id": "WijPic6_bXj5"
      },
      "source": [
        "# - Question 5"
      ]
    },
    {
      "cell_type": "markdown",
      "metadata": {
        "id": "1UUOntceymJi"
      },
      "source": [
        "### solution 5.1 (recommend)"
      ]
    },
    {
      "cell_type": "code",
      "metadata": {
        "colab": {
          "base_uri": "https://localhost:8080/"
        },
        "id": "hjpYwS-iymJs",
        "outputId": "01394b27-693e-4717-de3c-8bac46d949d1"
      },
      "source": [
        "print(\"That's so exciting\")"
      ],
      "execution_count": null,
      "outputs": [
        {
          "output_type": "stream",
          "name": "stdout",
          "text": [
            "That's so exciting\n"
          ]
        }
      ]
    },
    {
      "cell_type": "markdown",
      "metadata": {
        "id": "mpsFKVOtymJt"
      },
      "source": [
        "### solution 5.2"
      ]
    },
    {
      "cell_type": "code",
      "metadata": {
        "colab": {
          "base_uri": "https://localhost:8080/"
        },
        "id": "drpwkQKgymJu",
        "outputId": "5ff4d143-e019-43b8-de70-862c87c0055d"
      },
      "source": [
        "print('That\\'s so exciting')"
      ],
      "execution_count": null,
      "outputs": [
        {
          "output_type": "stream",
          "name": "stdout",
          "text": [
            "That's so exciting\n"
          ]
        }
      ]
    },
    {
      "cell_type": "markdown",
      "metadata": {
        "id": "btRXftFHbXj8"
      },
      "source": [
        "# - Question 6"
      ]
    },
    {
      "cell_type": "markdown",
      "metadata": {
        "id": "a63Tu5Kiy6J5"
      },
      "source": [
        "### solution 6.1 (recommend)"
      ]
    },
    {
      "cell_type": "code",
      "metadata": {
        "colab": {
          "base_uri": "https://localhost:8080/"
        },
        "id": "SftVtdCxy6J7",
        "outputId": "cfa29b79-0af8-46e0-e01f-ba3e8b29ed1b"
      },
      "source": [
        "print('Python developer salary in 2021 is $110,840')"
      ],
      "execution_count": null,
      "outputs": [
        {
          "output_type": "stream",
          "name": "stdout",
          "text": [
            "Python developer salary in 2021 is $110,840\n"
          ]
        }
      ]
    },
    {
      "cell_type": "markdown",
      "metadata": {
        "id": "fHnAxo81y6J8"
      },
      "source": [
        "### solution 6.2"
      ]
    },
    {
      "cell_type": "code",
      "metadata": {
        "colab": {
          "base_uri": "https://localhost:8080/"
        },
        "id": "U7qqxz6Wy6J8",
        "outputId": "45e73da2-d5f1-4380-a50a-e3273efc38e9"
      },
      "source": [
        "print(\"Python developer salary in 2021 is $110,840\")"
      ],
      "execution_count": null,
      "outputs": [
        {
          "output_type": "stream",
          "name": "stdout",
          "text": [
            "Python developer salary in 2021 is $110,840\n"
          ]
        }
      ]
    },
    {
      "cell_type": "markdown",
      "metadata": {
        "id": "RxZEULGJbXj9"
      },
      "source": [
        "# - Question 7"
      ]
    },
    {
      "cell_type": "markdown",
      "metadata": {
        "id": "JXsT4UDFzQAc"
      },
      "source": [
        "### solution 7.1 (recommend)"
      ]
    },
    {
      "cell_type": "code",
      "metadata": {
        "colab": {
          "base_uri": "https://localhost:8080/"
        },
        "id": "2j3sqrWvzQAd",
        "outputId": "ab40f5b5-3cf6-43fc-fbf0-6c8415d91592"
      },
      "source": [
        "print('29.9% of programmer writed Python')"
      ],
      "execution_count": null,
      "outputs": [
        {
          "output_type": "stream",
          "name": "stdout",
          "text": [
            "29.9% of programmer writed Python\n"
          ]
        }
      ]
    },
    {
      "cell_type": "markdown",
      "metadata": {
        "id": "oZbLUTPfzQAd"
      },
      "source": [
        "### solution 7.2"
      ]
    },
    {
      "cell_type": "code",
      "metadata": {
        "colab": {
          "base_uri": "https://localhost:8080/"
        },
        "id": "Z9_NmdzwzQAe",
        "outputId": "55e61c5d-de82-4ce2-d34a-b3b0470ac43b"
      },
      "source": [
        "print(\"29.9% of programmer writed Python\")"
      ],
      "execution_count": null,
      "outputs": [
        {
          "output_type": "stream",
          "name": "stdout",
          "text": [
            "29.9% of programmer writed Python\n"
          ]
        }
      ]
    },
    {
      "cell_type": "markdown",
      "metadata": {
        "id": "7e-oJQ1jbXkA"
      },
      "source": [
        "# - Question 8"
      ]
    },
    {
      "cell_type": "markdown",
      "metadata": {
        "id": "Qi22IeM2bXj5"
      },
      "source": [
        "### solution 8.1 (recommend)"
      ]
    },
    {
      "cell_type": "code",
      "metadata": {
        "colab": {
          "base_uri": "https://localhost:8080/"
        },
        "id": "z3-KAZl1bXj5",
        "outputId": "d6a1c59a-697a-4d53-e5ae-d34efc85f63b"
      },
      "source": [
        "name = 'John'\n",
        "print('My name is', name)"
      ],
      "execution_count": null,
      "outputs": [
        {
          "output_type": "stream",
          "name": "stdout",
          "text": [
            "My name is John\n"
          ]
        }
      ]
    },
    {
      "cell_type": "markdown",
      "metadata": {
        "id": "lBIinb7gbXj8"
      },
      "source": [
        "### solution 8.2"
      ]
    },
    {
      "cell_type": "code",
      "metadata": {
        "colab": {
          "base_uri": "https://localhost:8080/"
        },
        "id": "4-C4jSmjbXj8",
        "outputId": "3e87f748-b6dd-4909-d831-1c1275c7e2bc"
      },
      "source": [
        "name = 'John'\n",
        "print('My name is ' + name)"
      ],
      "execution_count": null,
      "outputs": [
        {
          "output_type": "stream",
          "name": "stdout",
          "text": [
            "My name is John\n"
          ]
        }
      ]
    },
    {
      "cell_type": "markdown",
      "metadata": {
        "id": "QGK_kg69Mf_5"
      },
      "source": [
        "### solution 8.3"
      ]
    },
    {
      "cell_type": "code",
      "metadata": {
        "id": "bh-nSzyIMsPd",
        "colab": {
          "base_uri": "https://localhost:8080/"
        },
        "outputId": "8425fa02-57a6-4ad6-a229-265dc935b67d"
      },
      "source": [
        "name = 'John'\n",
        "print(f'My name is {name}')"
      ],
      "execution_count": null,
      "outputs": [
        {
          "output_type": "stream",
          "name": "stdout",
          "text": [
            "My name is John\n"
          ]
        }
      ]
    },
    {
      "cell_type": "markdown",
      "metadata": {
        "id": "r1LvPBnrbXkC"
      },
      "source": [
        "# - Question 9"
      ]
    },
    {
      "cell_type": "markdown",
      "metadata": {
        "id": "F2ebddxabXj8"
      },
      "source": [
        "### solution 9.1 (recommend)"
      ]
    },
    {
      "cell_type": "code",
      "metadata": {
        "colab": {
          "base_uri": "https://localhost:8080/"
        },
        "id": "chg9VyJLbXj9",
        "outputId": "f189b682-bdcb-470c-8f75-a24e9f370ac4"
      },
      "source": [
        "name = 'John'\n",
        "print('My name is \"%s\"' %name)"
      ],
      "execution_count": null,
      "outputs": [
        {
          "output_type": "stream",
          "name": "stdout",
          "text": [
            "My name is \"John\"\n"
          ]
        }
      ]
    },
    {
      "cell_type": "markdown",
      "metadata": {
        "id": "Z4hk7HQ0bXj9"
      },
      "source": [
        "### solution 9.2"
      ]
    },
    {
      "cell_type": "code",
      "metadata": {
        "colab": {
          "base_uri": "https://localhost:8080/"
        },
        "id": "uLCEQUgVbXj9",
        "outputId": "9f97ecdb-1a23-4c7b-aa1c-0734e9ec681c"
      },
      "source": [
        "name = 'John'\n",
        "print('My name is \"' + name + '\"')"
      ],
      "execution_count": null,
      "outputs": [
        {
          "output_type": "stream",
          "name": "stdout",
          "text": [
            "My name is \"John\"\n"
          ]
        }
      ]
    },
    {
      "cell_type": "markdown",
      "metadata": {
        "id": "CHkJcvWEM8O7"
      },
      "source": [
        "### solution 9.3"
      ]
    },
    {
      "cell_type": "code",
      "metadata": {
        "id": "oRHglVGdM-tk",
        "colab": {
          "base_uri": "https://localhost:8080/"
        },
        "outputId": "06746b95-9216-4fe0-812a-02fb709b947d"
      },
      "source": [
        "name = 'John'\n",
        "print(f'My name is \"{name}\"')"
      ],
      "execution_count": 1,
      "outputs": [
        {
          "output_type": "stream",
          "name": "stdout",
          "text": [
            "My name is \"John\"\n"
          ]
        }
      ]
    },
    {
      "cell_type": "markdown",
      "metadata": {
        "id": "WGRKK-E2bXkF"
      },
      "source": [
        "# - Question 10"
      ]
    },
    {
      "cell_type": "markdown",
      "metadata": {
        "id": "fB_RPiFYbXkS"
      },
      "source": [
        "### solution 10.1 (recommend)"
      ]
    },
    {
      "cell_type": "code",
      "metadata": {
        "colab": {
          "base_uri": "https://localhost:8080/"
        },
        "id": "2Aiq1EhfbXkU",
        "scrolled": true,
        "outputId": "d5802b1f-de23-4b3f-8b1d-f3c7aa3a6959"
      },
      "source": [
        "print('/\\\\/\\\\/\\\\')"
      ],
      "execution_count": null,
      "outputs": [
        {
          "output_type": "stream",
          "name": "stdout",
          "text": [
            "/\\/\\/\\\n"
          ]
        }
      ]
    },
    {
      "cell_type": "markdown",
      "metadata": {
        "id": "09wko0ADbXkU"
      },
      "source": [
        "### solution 10.2"
      ]
    },
    {
      "cell_type": "code",
      "metadata": {
        "colab": {
          "base_uri": "https://localhost:8080/"
        },
        "id": "TyiiEV08bXkV",
        "outputId": "14803944-8bc5-45b5-a5e7-004d9087f102"
      },
      "source": [
        "print(\"/\\\\/\\\\/\\\\\")"
      ],
      "execution_count": null,
      "outputs": [
        {
          "output_type": "stream",
          "name": "stdout",
          "text": [
            "/\\/\\/\\\n"
          ]
        }
      ]
    },
    {
      "cell_type": "markdown",
      "metadata": {
        "id": "uRZrcxjXbXkJ"
      },
      "source": [
        "# - Question 11"
      ]
    },
    {
      "cell_type": "markdown",
      "metadata": {
        "id": "hINVAuexbXkL"
      },
      "source": [
        "### solution 11.1 (recommend)"
      ]
    },
    {
      "cell_type": "code",
      "metadata": {
        "colab": {
          "base_uri": "https://localhost:8080/"
        },
        "id": "x9wiD2U-bXkM",
        "outputId": "6ecaa82f-128a-403d-c9f9-408ec65ea0d8"
      },
      "source": [
        "print('''a\n",
        "an\n",
        "ant''')"
      ],
      "execution_count": null,
      "outputs": [
        {
          "output_type": "stream",
          "name": "stdout",
          "text": [
            "a\n",
            "an\n",
            "ant\n"
          ]
        }
      ]
    },
    {
      "cell_type": "markdown",
      "metadata": {
        "id": "kSF7mcFXbXkM"
      },
      "source": [
        "### solution 11.2"
      ]
    },
    {
      "cell_type": "code",
      "metadata": {
        "colab": {
          "base_uri": "https://localhost:8080/"
        },
        "id": "5-4THBFybXkM",
        "outputId": "0f623b39-e8fb-4ea1-f6c2-3f9a06170624"
      },
      "source": [
        "print(\"\"\"a\n",
        "an\n",
        "ant\"\"\")"
      ],
      "execution_count": null,
      "outputs": [
        {
          "output_type": "stream",
          "name": "stdout",
          "text": [
            "a\n",
            "an\n",
            "ant\n"
          ]
        }
      ]
    },
    {
      "cell_type": "markdown",
      "metadata": {
        "id": "T39SjNiqbXkK"
      },
      "source": [
        "# - Question 12"
      ]
    },
    {
      "cell_type": "markdown",
      "metadata": {
        "id": "ItC3PumQbXkM"
      },
      "source": [
        "### solution 12.1 (recommend)"
      ]
    },
    {
      "cell_type": "code",
      "metadata": {
        "colab": {
          "base_uri": "https://localhost:8080/"
        },
        "id": "PHsiyEt4bXkM",
        "outputId": "ba48d2ad-6086-4b36-bbf2-f595695d9558"
      },
      "source": [
        "print('''\\t*\n",
        "*\\t*\\t*\n",
        "\\t*''')"
      ],
      "execution_count": null,
      "outputs": [
        {
          "output_type": "stream",
          "name": "stdout",
          "text": [
            "\t*\n",
            "*\t*\t*\n",
            "\t*\n"
          ]
        }
      ]
    },
    {
      "cell_type": "markdown",
      "metadata": {
        "id": "8XUQ07fJbXkN"
      },
      "source": [
        "### solution 12.2"
      ]
    },
    {
      "cell_type": "code",
      "metadata": {
        "colab": {
          "base_uri": "https://localhost:8080/"
        },
        "id": "qmBujOfRbXkN",
        "outputId": "0fcdf16d-6ac2-4e2e-e720-543ff1e018dd"
      },
      "source": [
        "print(\"\"\"\\t*\n",
        "*\\t*\\t*\n",
        "\\t*\"\"\")"
      ],
      "execution_count": null,
      "outputs": [
        {
          "output_type": "stream",
          "name": "stdout",
          "text": [
            "\t*\n",
            "*\t*\t*\n",
            "\t*\n"
          ]
        }
      ]
    },
    {
      "cell_type": "markdown",
      "metadata": {
        "id": "VliAmrbBbXkL"
      },
      "source": [
        "# - Question 13"
      ]
    },
    {
      "cell_type": "markdown",
      "metadata": {
        "id": "huj6pP72bXkN"
      },
      "source": [
        "### solution 13.1 (recommend)"
      ]
    },
    {
      "cell_type": "code",
      "metadata": {
        "colab": {
          "base_uri": "https://localhost:8080/"
        },
        "id": "KbgNeglxbXkN",
        "outputId": "9e91bcbe-d59e-4e70-fe6b-7cdc168403c2"
      },
      "source": [
        "print('''*\\t+\\t*\n",
        "+\\t*\\t+\n",
        "*\\t+\\t*''')"
      ],
      "execution_count": null,
      "outputs": [
        {
          "output_type": "stream",
          "name": "stdout",
          "text": [
            "*\t+\t*\n",
            "+\t*\t+\n",
            "*\t+\t*\n"
          ]
        }
      ]
    },
    {
      "cell_type": "markdown",
      "metadata": {
        "id": "8V_Uv5N6bXkN"
      },
      "source": [
        "### solution 13.2"
      ]
    },
    {
      "cell_type": "code",
      "metadata": {
        "colab": {
          "base_uri": "https://localhost:8080/"
        },
        "id": "abla7qW0bXkO",
        "outputId": "a6c66f9c-d641-4a4b-b899-7e1e1c82cde2"
      },
      "source": [
        "print(\"\"\"*\\t+\\t*\n",
        "+\\t*\\t+\n",
        "*\\t+\\t*\"\"\")"
      ],
      "execution_count": null,
      "outputs": [
        {
          "output_type": "stream",
          "name": "stdout",
          "text": [
            "*\t+\t*\n",
            "+\t*\t+\n",
            "*\t+\t*\n"
          ]
        }
      ]
    },
    {
      "cell_type": "markdown",
      "metadata": {
        "id": "CI5ZKgHBbXkM"
      },
      "source": [
        "# - Question 14"
      ]
    },
    {
      "cell_type": "markdown",
      "metadata": {
        "id": "lDk9_3a1bXka"
      },
      "source": [
        "### solution 14.1 (recommend)"
      ]
    },
    {
      "cell_type": "code",
      "metadata": {
        "colab": {
          "base_uri": "https://localhost:8080/"
        },
        "id": "6K5lLNmfbXka",
        "outputId": "c6382265-62fb-4cc8-a1c4-f9d4c741f184"
      },
      "source": [
        "print(\"\"\"Just because something\n",
        "thinks differently from you,\n",
        "does that mean it's not thinking ?\"\"\")"
      ],
      "execution_count": null,
      "outputs": [
        {
          "output_type": "stream",
          "name": "stdout",
          "text": [
            "Just because something\n",
            "thinks differently from you,\n",
            "does that mean it's not thinking ?\n"
          ]
        }
      ]
    },
    {
      "cell_type": "markdown",
      "metadata": {
        "id": "ackFwsjCbXkb"
      },
      "source": [
        "### solution 14.2"
      ]
    },
    {
      "cell_type": "code",
      "metadata": {
        "colab": {
          "base_uri": "https://localhost:8080/"
        },
        "id": "BCnxG0uQbXkb",
        "outputId": "66c7135b-0866-4b88-bf91-592ea2b92627"
      },
      "source": [
        "print('''Just because something\n",
        "thinks differently from you,\n",
        "does that mean it\\'s not thinking ?''')"
      ],
      "execution_count": null,
      "outputs": [
        {
          "output_type": "stream",
          "name": "stdout",
          "text": [
            "Just because something\n",
            "thinks differently from you,\n",
            "does that mean it's not thinking ?\n"
          ]
        }
      ]
    },
    {
      "cell_type": "markdown",
      "metadata": {
        "id": "3KtT0B2ubXkN"
      },
      "source": [
        "# - Question 15"
      ]
    },
    {
      "cell_type": "markdown",
      "metadata": {
        "id": "8x8dOsDwbXkZ"
      },
      "source": [
        "### solution 15.1 (recommend)"
      ]
    },
    {
      "cell_type": "code",
      "metadata": {
        "colab": {
          "base_uri": "https://localhost:8080/"
        },
        "id": "KNCh1pinbXka",
        "outputId": "880df74b-8b9d-4692-d180-beae39166eee"
      },
      "source": [
        "print('''\\\\\\t\\t/\n",
        "\\tX\n",
        "/\\t\\t\\\\''')"
      ],
      "execution_count": null,
      "outputs": [
        {
          "output_type": "stream",
          "name": "stdout",
          "text": [
            "\\\t\t/\n",
            "\tX\n",
            "/\t\t\\\n"
          ]
        }
      ]
    },
    {
      "cell_type": "markdown",
      "metadata": {
        "id": "Z3Yg-AcZbXka"
      },
      "source": [
        "### solution 15.2"
      ]
    },
    {
      "cell_type": "code",
      "metadata": {
        "colab": {
          "base_uri": "https://localhost:8080/"
        },
        "id": "0fhbGnWbbXka",
        "outputId": "dce3f914-6ac5-4905-f851-1e24a8e4889f"
      },
      "source": [
        "print(\"\"\"\\\\\\t\\t/\n",
        "\\tX\n",
        "/\\t\\t\\\\\"\"\")"
      ],
      "execution_count": null,
      "outputs": [
        {
          "output_type": "stream",
          "name": "stdout",
          "text": [
            "\\\t\t/\n",
            "\tX\n",
            "/\t\t\\\n"
          ]
        }
      ]
    },
    {
      "cell_type": "markdown",
      "metadata": {
        "id": "-vJaFuIAbXkO"
      },
      "source": [
        "# - Question 16"
      ]
    },
    {
      "cell_type": "markdown",
      "metadata": {
        "id": "14AYL5_6bXj-"
      },
      "source": [
        "### solution 16.1 (recommend)"
      ]
    },
    {
      "cell_type": "code",
      "metadata": {
        "colab": {
          "base_uri": "https://localhost:8080/"
        },
        "id": "L6XwrbTfbXj-",
        "scrolled": true,
        "outputId": "7871d197-56ba-4ca5-a4ff-0f35681b51b4"
      },
      "source": [
        "print(25)"
      ],
      "execution_count": null,
      "outputs": [
        {
          "output_type": "stream",
          "name": "stdout",
          "text": [
            "25\n"
          ]
        }
      ]
    },
    {
      "cell_type": "markdown",
      "metadata": {
        "id": "GiTp6MosbXj-"
      },
      "source": [
        "### solution 16.2"
      ]
    },
    {
      "cell_type": "code",
      "metadata": {
        "colab": {
          "base_uri": "https://localhost:8080/"
        },
        "id": "NQJX641XbXj-",
        "outputId": "ce1fee5a-fdc4-477a-e2e2-fc27b173975e"
      },
      "source": [
        "print('%d' %25)"
      ],
      "execution_count": null,
      "outputs": [
        {
          "output_type": "stream",
          "name": "stdout",
          "text": [
            "25\n"
          ]
        }
      ]
    },
    {
      "cell_type": "markdown",
      "metadata": {
        "id": "H7KgJxvObXkP"
      },
      "source": [
        "# - Question 17"
      ]
    },
    {
      "cell_type": "markdown",
      "metadata": {
        "id": "gLHgjPgSbXkA"
      },
      "source": [
        "### solution 17.1 (recommend)"
      ]
    },
    {
      "cell_type": "code",
      "metadata": {
        "colab": {
          "base_uri": "https://localhost:8080/"
        },
        "id": "dfcCKpfSbXkA",
        "scrolled": true,
        "outputId": "5cf4cfa9-872e-427a-c338-27c373f351a6"
      },
      "source": [
        "print('%f' %100)"
      ],
      "execution_count": null,
      "outputs": [
        {
          "output_type": "stream",
          "name": "stdout",
          "text": [
            "100.000000\n"
          ]
        }
      ]
    },
    {
      "cell_type": "markdown",
      "metadata": {
        "id": "VEpXZX44bXkB"
      },
      "source": [
        "### solution 17.2"
      ]
    },
    {
      "cell_type": "code",
      "metadata": {
        "colab": {
          "base_uri": "https://localhost:8080/"
        },
        "id": "2iKg1zHlbXkB",
        "outputId": "3f351b34-e770-40cf-f51e-df913768cf57"
      },
      "source": [
        "print('%.6f' %100)"
      ],
      "execution_count": null,
      "outputs": [
        {
          "output_type": "stream",
          "name": "stdout",
          "text": [
            "100.000000\n"
          ]
        }
      ]
    },
    {
      "cell_type": "markdown",
      "metadata": {
        "id": "e6i9QTdRNYBh"
      },
      "source": [
        "### solution 17.3"
      ]
    },
    {
      "cell_type": "code",
      "metadata": {
        "id": "sgZlACmzNbo3",
        "colab": {
          "base_uri": "https://localhost:8080/"
        },
        "outputId": "27bc1be3-a946-4faa-9ddf-eb60fa1fe1cd"
      },
      "source": [
        "print(f'{100:.6f}')"
      ],
      "execution_count": null,
      "outputs": [
        {
          "output_type": "stream",
          "name": "stdout",
          "text": [
            "100.000000\n"
          ]
        }
      ]
    },
    {
      "cell_type": "markdown",
      "metadata": {
        "id": "_-nFGwIHbXkQ"
      },
      "source": [
        "# - Question 18"
      ]
    },
    {
      "cell_type": "markdown",
      "metadata": {
        "id": "EcfYtFkvbXkC"
      },
      "source": [
        "### solution 18.1 (recommend)"
      ]
    },
    {
      "cell_type": "code",
      "metadata": {
        "colab": {
          "base_uri": "https://localhost:8080/"
        },
        "id": "40zg70Y4bXkC",
        "outputId": "34bd5f75-2927-43cd-9a56-a6c2a2337279"
      },
      "source": [
        "from math import pi\n",
        "print('%.15f' %pi)"
      ],
      "execution_count": null,
      "outputs": [
        {
          "output_type": "stream",
          "name": "stdout",
          "text": [
            "3.141592653589793\n"
          ]
        }
      ]
    },
    {
      "cell_type": "markdown",
      "metadata": {
        "id": "ByCeprlKbXkD"
      },
      "source": [
        "### solution 18.2"
      ]
    },
    {
      "cell_type": "code",
      "metadata": {
        "colab": {
          "base_uri": "https://localhost:8080/"
        },
        "id": "48d7XEUabXkD",
        "outputId": "96d06ca4-0770-4e04-dfbb-dbd0a9a6dfd6"
      },
      "source": [
        "import math\n",
        "print('%.15f' %math.pi)"
      ],
      "execution_count": null,
      "outputs": [
        {
          "output_type": "stream",
          "name": "stdout",
          "text": [
            "3.141592653589793\n"
          ]
        }
      ]
    },
    {
      "cell_type": "markdown",
      "metadata": {
        "id": "Wx_VKhS2NiHs"
      },
      "source": [
        "### solution 18.3"
      ]
    },
    {
      "cell_type": "code",
      "metadata": {
        "id": "9lw9m73INjyO",
        "colab": {
          "base_uri": "https://localhost:8080/"
        },
        "outputId": "3dee9b50-5bfc-416a-a13f-a53a8236cc80"
      },
      "source": [
        "import math\n",
        "print(f'{math.pi:.15f}')"
      ],
      "execution_count": 4,
      "outputs": [
        {
          "output_type": "stream",
          "name": "stdout",
          "text": [
            "3.141592653589793\n"
          ]
        }
      ]
    },
    {
      "cell_type": "markdown",
      "metadata": {
        "id": "s6OtS_i_bXkS"
      },
      "source": [
        "# - Question 19"
      ]
    },
    {
      "cell_type": "markdown",
      "metadata": {
        "id": "al1Y26aebXkG"
      },
      "source": [
        "### solution 19.1 (recommend)"
      ]
    },
    {
      "cell_type": "code",
      "metadata": {
        "colab": {
          "base_uri": "https://localhost:8080/"
        },
        "id": "4HMWLJFibXkH",
        "outputId": "dfacf58a-fc09-483f-b58d-8b42a1c6ac98"
      },
      "source": [
        "a = 2\n",
        "print(a)"
      ],
      "execution_count": null,
      "outputs": [
        {
          "output_type": "stream",
          "name": "stdout",
          "text": [
            "2\n"
          ]
        }
      ]
    },
    {
      "cell_type": "markdown",
      "metadata": {
        "id": "rsXOY3NgbXkH"
      },
      "source": [
        "### solution 19.2"
      ]
    },
    {
      "cell_type": "code",
      "metadata": {
        "colab": {
          "base_uri": "https://localhost:8080/"
        },
        "id": "3mCEpSU0bXkI",
        "outputId": "c48bb14f-1a3f-4e52-dd8e-eeda3e097826"
      },
      "source": [
        "a = 2\n",
        "print('%d' %a)"
      ],
      "execution_count": null,
      "outputs": [
        {
          "output_type": "stream",
          "name": "stdout",
          "text": [
            "2\n"
          ]
        }
      ]
    },
    {
      "cell_type": "markdown",
      "metadata": {
        "id": "e7TczLPabXkV"
      },
      "source": [
        "# - Question 20"
      ]
    },
    {
      "cell_type": "markdown",
      "metadata": {
        "id": "Wx-QKmfBbXkJ"
      },
      "source": [
        "### solution 20.1 (recommend)"
      ]
    },
    {
      "cell_type": "code",
      "metadata": {
        "colab": {
          "base_uri": "https://localhost:8080/"
        },
        "id": "MTwmm_uRbXkK",
        "outputId": "c4ca8710-8ad1-4175-8203-388bddbd9a47"
      },
      "source": [
        "a = 12.5\n",
        "print(a)"
      ],
      "execution_count": null,
      "outputs": [
        {
          "output_type": "stream",
          "name": "stdout",
          "text": [
            "12.5\n"
          ]
        }
      ]
    },
    {
      "cell_type": "markdown",
      "metadata": {
        "id": "jLgykxAJbXkK"
      },
      "source": [
        "### solution 20.2"
      ]
    },
    {
      "cell_type": "code",
      "metadata": {
        "colab": {
          "base_uri": "https://localhost:8080/"
        },
        "id": "4EtRb4wWbXkK",
        "outputId": "a5f9c347-8243-47b4-d825-af75b2e076ca"
      },
      "source": [
        "a = 12.5\n",
        "print('%.1f' %a)"
      ],
      "execution_count": null,
      "outputs": [
        {
          "output_type": "stream",
          "name": "stdout",
          "text": [
            "12.5\n"
          ]
        }
      ]
    },
    {
      "cell_type": "markdown",
      "metadata": {
        "id": "z2zrPn1ybXkX"
      },
      "source": [
        "# - Question 21"
      ]
    },
    {
      "cell_type": "markdown",
      "metadata": {
        "id": "k3Asnirw2g_D"
      },
      "source": [
        "### solution 21.1 (recommend)"
      ]
    },
    {
      "cell_type": "code",
      "metadata": {
        "colab": {
          "base_uri": "https://localhost:8080/"
        },
        "id": "F8UBxYCV2g_G",
        "outputId": "bb65a046-9bfd-4c99-db6a-2c2a58d3077b"
      },
      "source": [
        "a = 2\n",
        "b = 3\n",
        "print(a, 'x', b, '=', a*b)"
      ],
      "execution_count": null,
      "outputs": [
        {
          "output_type": "stream",
          "name": "stdout",
          "text": [
            "2 x 3 = 6\n"
          ]
        }
      ]
    },
    {
      "cell_type": "markdown",
      "metadata": {
        "id": "f_DZtpUt2g_G"
      },
      "source": [
        "### solution 21.2"
      ]
    },
    {
      "cell_type": "code",
      "metadata": {
        "colab": {
          "base_uri": "https://localhost:8080/"
        },
        "id": "goC00uSe2g_H",
        "outputId": "362b3068-78e0-405d-bd3d-e7e3b8bee779"
      },
      "source": [
        "a = 2\n",
        "b = 3\n",
        "print('%d x %d = %d' %(a, b, a*b))"
      ],
      "execution_count": null,
      "outputs": [
        {
          "output_type": "stream",
          "name": "stdout",
          "text": [
            "2 x 3 = 6\n"
          ]
        }
      ]
    },
    {
      "cell_type": "markdown",
      "metadata": {
        "id": "4exlVDeNNrZK"
      },
      "source": [
        "### solution 21.3"
      ]
    },
    {
      "cell_type": "code",
      "metadata": {
        "id": "s-wF1n9gNsmW",
        "colab": {
          "base_uri": "https://localhost:8080/"
        },
        "outputId": "9f1e5434-d81b-4581-f852-24bfe62e5800"
      },
      "source": [
        "a = 2\n",
        "b = 3\n",
        "print(f'{a} x {b} = {a*b}')"
      ],
      "execution_count": 5,
      "outputs": [
        {
          "output_type": "stream",
          "name": "stdout",
          "text": [
            "2 x 3 = 6\n"
          ]
        }
      ]
    },
    {
      "cell_type": "markdown",
      "metadata": {
        "id": "Y_fVuqjPbXkY"
      },
      "source": [
        "# - Question 22"
      ]
    },
    {
      "cell_type": "markdown",
      "metadata": {
        "id": "zAtRz5wSbXkW"
      },
      "source": [
        "### solution 22.1 (recommend)"
      ]
    },
    {
      "cell_type": "code",
      "metadata": {
        "colab": {
          "base_uri": "https://localhost:8080/"
        },
        "id": "cTx_NgM1bXkW",
        "outputId": "a95f6b13-01eb-491f-e97b-0aedc05ee9a9"
      },
      "source": [
        "a = 2\n",
        "b = 3\n",
        "print('%d + %d = %d + %d = %d' %(a, b, b, a, a+b))"
      ],
      "execution_count": null,
      "outputs": [
        {
          "output_type": "stream",
          "name": "stdout",
          "text": [
            "2 + 3 = 3 + 2 = 5\n"
          ]
        }
      ]
    },
    {
      "cell_type": "markdown",
      "metadata": {
        "id": "oh_5odOGbXkW"
      },
      "source": [
        "### solution 22.2"
      ]
    },
    {
      "cell_type": "code",
      "metadata": {
        "colab": {
          "base_uri": "https://localhost:8080/"
        },
        "id": "eo-rPLcgbXkX",
        "outputId": "eb1ba771-df91-4e7a-89d6-faab75702bc5"
      },
      "source": [
        "a = 2\n",
        "b = 3\n",
        "print(a, '+', b, '=', b, '+', a, '=', a+b)"
      ],
      "execution_count": null,
      "outputs": [
        {
          "output_type": "stream",
          "name": "stdout",
          "text": [
            "2 + 3 = 3 + 2 = 5\n"
          ]
        }
      ]
    },
    {
      "cell_type": "markdown",
      "metadata": {
        "id": "evypW4LcNvqG"
      },
      "source": [
        "### solution 22.3"
      ]
    },
    {
      "cell_type": "code",
      "metadata": {
        "id": "zEYZJPlANw6P",
        "colab": {
          "base_uri": "https://localhost:8080/"
        },
        "outputId": "b8ee6ead-e4ab-478a-a968-3f9971a8f391"
      },
      "source": [
        "a = 2\n",
        "b = 3\n",
        "print(f'{a} + {b} = {b} + {a} = {a+b}')"
      ],
      "execution_count": 6,
      "outputs": [
        {
          "output_type": "stream",
          "name": "stdout",
          "text": [
            "2 + 3 = 3 + 2 = 5\n"
          ]
        }
      ]
    },
    {
      "cell_type": "markdown",
      "metadata": {
        "id": "x5z6kNbRbXkZ"
      },
      "source": [
        "# - Question 23"
      ]
    },
    {
      "cell_type": "markdown",
      "metadata": {
        "id": "8lctJxr6bXkX"
      },
      "source": [
        "### solution 23.1 (recommend)"
      ]
    },
    {
      "cell_type": "code",
      "metadata": {
        "colab": {
          "base_uri": "https://localhost:8080/"
        },
        "id": "WvQ4Kk3XbXkX",
        "outputId": "7ac2c27c-4543-457c-aa76-f2ee4d097a74"
      },
      "source": [
        "a = 2\n",
        "b = 3\n",
        "c = 5\n",
        "print('%d*(%d + %d) = %d*%d + %d*%d' %(a, b, c, a, b, a, c))"
      ],
      "execution_count": null,
      "outputs": [
        {
          "output_type": "stream",
          "name": "stdout",
          "text": [
            "2*(3 + 5) = 2*3 + 2*5\n"
          ]
        }
      ]
    },
    {
      "cell_type": "markdown",
      "metadata": {
        "id": "b14drDu_bXkX"
      },
      "source": [
        "### solution 23.2"
      ]
    },
    {
      "cell_type": "code",
      "metadata": {
        "colab": {
          "base_uri": "https://localhost:8080/"
        },
        "id": "EJswS6JybXkX",
        "outputId": "19db412c-c08a-480b-cddf-9de128ca5038"
      },
      "source": [
        "a = 2\n",
        "b = 3\n",
        "c = 5\n",
        "print(\"%d*(%d + %d) = %d*%d + %d*%d\" %(a, b, c, a, b, a, c))"
      ],
      "execution_count": null,
      "outputs": [
        {
          "output_type": "stream",
          "name": "stdout",
          "text": [
            "2*(3 + 5) = 2*3 + 2*5\n"
          ]
        }
      ]
    },
    {
      "cell_type": "markdown",
      "metadata": {
        "id": "DL0yEgAQNyg4"
      },
      "source": [
        "### solution 23.3"
      ]
    },
    {
      "cell_type": "code",
      "metadata": {
        "id": "KmFSNMWLN0R7",
        "colab": {
          "base_uri": "https://localhost:8080/"
        },
        "outputId": "566e5932-c0d3-4a65-92cc-19dd02b3d555"
      },
      "source": [
        "a = 2\n",
        "b = 3\n",
        "c = 5\n",
        "print(f'{a}*({b} + {c}) = {a}*{b} + {a}*{c}')"
      ],
      "execution_count": 7,
      "outputs": [
        {
          "output_type": "stream",
          "name": "stdout",
          "text": [
            "2*(3 + 5) = 2*3 + 2*5\n"
          ]
        }
      ]
    },
    {
      "cell_type": "markdown",
      "metadata": {
        "id": "kyGgxaLXbXka"
      },
      "source": [
        "# - Question 24"
      ]
    },
    {
      "cell_type": "markdown",
      "metadata": {
        "id": "pa-gkEeXbXkY"
      },
      "source": [
        "### solution 24.1 (recommend)"
      ]
    },
    {
      "cell_type": "code",
      "metadata": {
        "colab": {
          "base_uri": "https://localhost:8080/"
        },
        "id": "Tts7upEGbXkY",
        "outputId": "17e99d83-d8a0-401a-ef72-3b997d87f62f"
      },
      "source": [
        "a = 2.4\n",
        "b = 2.5\n",
        "print('%.1f + %.1f = %.4f' %(a, b, a+b))"
      ],
      "execution_count": null,
      "outputs": [
        {
          "output_type": "stream",
          "name": "stdout",
          "text": [
            "2.4 + 2.5 = 4.9000\n"
          ]
        }
      ]
    },
    {
      "cell_type": "markdown",
      "metadata": {
        "id": "VrHeDgs_bXkY"
      },
      "source": [
        "### solution 24.2"
      ]
    },
    {
      "cell_type": "code",
      "metadata": {
        "colab": {
          "base_uri": "https://localhost:8080/"
        },
        "id": "nWaQtcCobXkZ",
        "outputId": "6d411b13-ce9f-4977-aca0-282929ea409d"
      },
      "source": [
        "a = 2.4\n",
        "b = 2.5\n",
        "print(\"%.1f + %.1f = %.4f\" %(a, b, a+b))"
      ],
      "execution_count": null,
      "outputs": [
        {
          "output_type": "stream",
          "name": "stdout",
          "text": [
            "2.4 + 2.5 = 4.9000\n"
          ]
        }
      ]
    },
    {
      "cell_type": "markdown",
      "metadata": {
        "id": "XXbzH73HN2Lb"
      },
      "source": [
        "### solution 24.3"
      ]
    },
    {
      "cell_type": "code",
      "metadata": {
        "id": "hKEdCGafN3i9",
        "colab": {
          "base_uri": "https://localhost:8080/"
        },
        "outputId": "6aec7a03-163d-474b-c989-8a02a223e6d7"
      },
      "source": [
        "a = 2.4\n",
        "b = 2.5\n",
        "print(f'{a:.1f} + {b:.1f} = {a+b:.4f}')"
      ],
      "execution_count": 8,
      "outputs": [
        {
          "output_type": "stream",
          "name": "stdout",
          "text": [
            "2.4 + 2.5 = 4.9000\n"
          ]
        }
      ]
    },
    {
      "cell_type": "markdown",
      "metadata": {
        "id": "aVzC1wp9bXkb"
      },
      "source": [
        "# - Question 25"
      ]
    },
    {
      "cell_type": "markdown",
      "metadata": {
        "id": "PUI4ZeXubXkd"
      },
      "source": [
        "### solution 25.1 (recommend)"
      ]
    },
    {
      "cell_type": "code",
      "metadata": {
        "colab": {
          "base_uri": "https://localhost:8080/"
        },
        "id": "e-UdBZ7QbXkd",
        "outputId": "08876d06-e440-4960-a675-948192db11d7"
      },
      "source": [
        "a = 5\n",
        "b = 2\n",
        "print('%.1f - %.2f = %.4f' %(a, b, a-b))"
      ],
      "execution_count": null,
      "outputs": [
        {
          "output_type": "stream",
          "name": "stdout",
          "text": [
            "5.0 - 2.00 = 3.0000\n"
          ]
        }
      ]
    },
    {
      "cell_type": "markdown",
      "metadata": {
        "id": "-4g2L9A0bXkd"
      },
      "source": [
        "### solution 25.2"
      ]
    },
    {
      "cell_type": "code",
      "metadata": {
        "colab": {
          "base_uri": "https://localhost:8080/"
        },
        "id": "QHajIhjTbXkd",
        "outputId": "051ae059-a3b4-4edb-d53c-ff490e46e24d"
      },
      "source": [
        "a = 5\n",
        "b = 2\n",
        "print(\"%.1f - %.2f = %.4f\" %(a, b, a-b))"
      ],
      "execution_count": null,
      "outputs": [
        {
          "output_type": "stream",
          "name": "stdout",
          "text": [
            "5.0 - 2.00 = 3.0000\n"
          ]
        }
      ]
    },
    {
      "cell_type": "markdown",
      "metadata": {
        "id": "pM4ip7e0N5CQ"
      },
      "source": [
        "### solution 25.3"
      ]
    },
    {
      "cell_type": "code",
      "metadata": {
        "id": "VUpe5Z_HN6d-",
        "colab": {
          "base_uri": "https://localhost:8080/"
        },
        "outputId": "56abb99e-7bf0-4194-ce7c-d812fbc070f8"
      },
      "source": [
        "a = 5\n",
        "b = 2\n",
        "print(f'{a:.1f} - {b:.2f} = {a-b:.4f}')"
      ],
      "execution_count": 9,
      "outputs": [
        {
          "output_type": "stream",
          "name": "stdout",
          "text": [
            "5.0 - 2.00 = 3.0000\n"
          ]
        }
      ]
    },
    {
      "cell_type": "markdown",
      "metadata": {
        "id": "f1q3iMaNbXkc"
      },
      "source": [
        "# - Question 26"
      ]
    },
    {
      "cell_type": "markdown",
      "metadata": {
        "id": "dpQ8WL4rbXkO"
      },
      "source": [
        "### solution 26.1 (recommend)"
      ]
    },
    {
      "cell_type": "code",
      "metadata": {
        "colab": {
          "base_uri": "https://localhost:8080/"
        },
        "id": "m7lZncn4bXkO",
        "outputId": "2bc72606-57d0-4692-d281-1ce2892f8f5f"
      },
      "source": [
        "birthday = 25\n",
        "print('I was born on December', birthday)"
      ],
      "execution_count": null,
      "outputs": [
        {
          "output_type": "stream",
          "name": "stdout",
          "text": [
            "I was born on December 25\n"
          ]
        }
      ]
    },
    {
      "cell_type": "markdown",
      "metadata": {
        "id": "Js3CoazfbXkO"
      },
      "source": [
        "### solution 26.2"
      ]
    },
    {
      "cell_type": "code",
      "metadata": {
        "colab": {
          "base_uri": "https://localhost:8080/"
        },
        "id": "zDVuHGPwbXkO",
        "outputId": "0e6a9a32-0d07-499f-fdc2-f30bf0c50133"
      },
      "source": [
        "birthday = 25\n",
        "print('I was born on December %d' %birthday)"
      ],
      "execution_count": null,
      "outputs": [
        {
          "output_type": "stream",
          "name": "stdout",
          "text": [
            "I was born on December 25\n"
          ]
        }
      ]
    },
    {
      "cell_type": "markdown",
      "metadata": {
        "id": "GcsCmAAoN84x"
      },
      "source": [
        "### solution 26.3"
      ]
    },
    {
      "cell_type": "code",
      "metadata": {
        "id": "J-Gnkt6uN-4y",
        "colab": {
          "base_uri": "https://localhost:8080/"
        },
        "outputId": "92284437-3f77-44e9-c91d-595ca185326b"
      },
      "source": [
        "birthday = 25\n",
        "print(f'I was born on December {birthday}')"
      ],
      "execution_count": 10,
      "outputs": [
        {
          "output_type": "stream",
          "name": "stdout",
          "text": [
            "I was born on December 25\n"
          ]
        }
      ]
    },
    {
      "cell_type": "markdown",
      "metadata": {
        "id": "SpWPIUAibXkc"
      },
      "source": [
        "# - Question 27"
      ]
    },
    {
      "cell_type": "markdown",
      "metadata": {
        "id": "i64DQp8cbXkb"
      },
      "source": [
        "### solution 27.1 (recommend)"
      ]
    },
    {
      "cell_type": "code",
      "metadata": {
        "colab": {
          "base_uri": "https://localhost:8080/"
        },
        "id": "37udwfjxbXkb",
        "outputId": "c095e379-9d77-4fdb-e7b0-79a3d7310983"
      },
      "source": [
        "a = 5\n",
        "b = 100\n",
        "print('%d times %d is equal to %d' %(a, b, a*b))"
      ],
      "execution_count": null,
      "outputs": [
        {
          "output_type": "stream",
          "name": "stdout",
          "text": [
            "5 times 100 is equal to 500\n"
          ]
        }
      ]
    },
    {
      "cell_type": "markdown",
      "metadata": {
        "id": "l9MlqKBebXkc"
      },
      "source": [
        "### solution 27.2"
      ]
    },
    {
      "cell_type": "code",
      "metadata": {
        "colab": {
          "base_uri": "https://localhost:8080/"
        },
        "id": "QqoG0YCUbXkc",
        "outputId": "a1d17ed6-6c5b-4e97-94cc-71561ebd8c78"
      },
      "source": [
        "a = 5\n",
        "b = 100\n",
        "print(a, 'times', b, 'is equal to', a*b)"
      ],
      "execution_count": null,
      "outputs": [
        {
          "output_type": "stream",
          "name": "stdout",
          "text": [
            "5 times 100 is equal to 500\n"
          ]
        }
      ]
    },
    {
      "cell_type": "markdown",
      "metadata": {
        "id": "qYMp_gbSOAkm"
      },
      "source": [
        "### solution 27.3"
      ]
    },
    {
      "cell_type": "code",
      "metadata": {
        "id": "_Sao04urOCBv",
        "colab": {
          "base_uri": "https://localhost:8080/"
        },
        "outputId": "bf0c6949-f7fc-4e8d-a94c-e31a57d9f33c"
      },
      "source": [
        "a = 5\n",
        "b = 100\n",
        "print(f'{a} times {b} is equal to {a*b}')"
      ],
      "execution_count": 11,
      "outputs": [
        {
          "output_type": "stream",
          "name": "stdout",
          "text": [
            "5 times 100 is equal to 500\n"
          ]
        }
      ]
    },
    {
      "cell_type": "markdown",
      "metadata": {
        "id": "gk4-INC4bXkd"
      },
      "source": [
        "# - Question 28"
      ]
    },
    {
      "cell_type": "markdown",
      "metadata": {
        "id": "frC-riyJbXkd"
      },
      "source": [
        "### solution 28.1"
      ]
    },
    {
      "cell_type": "code",
      "metadata": {
        "colab": {
          "base_uri": "https://localhost:8080/"
        },
        "id": "FFuIfRNfbXkd",
        "outputId": "5443757b-ab86-4ee5-a498-32cb774a3afc"
      },
      "source": [
        "a = 3.5\n",
        "print('He has %.2f dollars more than me' %a)"
      ],
      "execution_count": null,
      "outputs": [
        {
          "output_type": "stream",
          "name": "stdout",
          "text": [
            "He has 3.50 dollars more than me\n"
          ]
        }
      ]
    },
    {
      "cell_type": "markdown",
      "metadata": {
        "id": "ZSPwwlDBbXkd"
      },
      "source": [
        "### solution 28.2"
      ]
    },
    {
      "cell_type": "code",
      "metadata": {
        "colab": {
          "base_uri": "https://localhost:8080/"
        },
        "id": "Y2iMC6RlbXkd",
        "outputId": "fab39ff1-2908-448d-d51d-dc0c991677df"
      },
      "source": [
        "a = 3.5\n",
        "print(\"He has %.2f dollars more than me\" %a)"
      ],
      "execution_count": null,
      "outputs": [
        {
          "output_type": "stream",
          "name": "stdout",
          "text": [
            "He has 3.50 dollars more than me\n"
          ]
        }
      ]
    },
    {
      "cell_type": "markdown",
      "metadata": {
        "id": "XXwGUj6FODoi"
      },
      "source": [
        "### solution 28.3"
      ]
    },
    {
      "cell_type": "code",
      "metadata": {
        "id": "87UJxCkxOGfh",
        "colab": {
          "base_uri": "https://localhost:8080/"
        },
        "outputId": "b113353a-987b-43c7-cd3b-e45c2c4ae21d"
      },
      "source": [
        "a = 3.5\n",
        "print(f'He has {a:.2f} dollars more than me')"
      ],
      "execution_count": 12,
      "outputs": [
        {
          "output_type": "stream",
          "name": "stdout",
          "text": [
            "He has 3.50 dollars more than me\n"
          ]
        }
      ]
    },
    {
      "cell_type": "markdown",
      "metadata": {
        "id": "yzlqJzBfbXkd"
      },
      "source": [
        "# - Question 29"
      ]
    },
    {
      "cell_type": "markdown",
      "metadata": {
        "id": "B1MKJZtwbXkd"
      },
      "source": [
        "### solution 29.1 (recommend)"
      ]
    },
    {
      "cell_type": "code",
      "metadata": {
        "colab": {
          "base_uri": "https://localhost:8080/"
        },
        "id": "o-8I33AabXke",
        "outputId": "2cdf1f1b-c24c-4cc1-e6f7-fb3d5d5a38b9"
      },
      "source": [
        "a = 5\n",
        "print('I earn %d%%' %a)"
      ],
      "execution_count": null,
      "outputs": [
        {
          "output_type": "stream",
          "name": "stdout",
          "text": [
            "I earn 5%\n"
          ]
        }
      ]
    },
    {
      "cell_type": "markdown",
      "metadata": {
        "id": "LVtT9PvfbXke"
      },
      "source": [
        "### solution 29.2"
      ]
    },
    {
      "cell_type": "code",
      "metadata": {
        "colab": {
          "base_uri": "https://localhost:8080/"
        },
        "id": "X13W5Q-zbXke",
        "outputId": "8709f5c0-b1ec-4148-9593-870e0811ea21"
      },
      "source": [
        "a = 5\n",
        "print(\"I earn %d%%\" %a)"
      ],
      "execution_count": null,
      "outputs": [
        {
          "output_type": "stream",
          "name": "stdout",
          "text": [
            "I earn 5%\n"
          ]
        }
      ]
    },
    {
      "cell_type": "markdown",
      "metadata": {
        "id": "r8_rPQPkOHzI"
      },
      "source": [
        "### solution 29.3"
      ]
    },
    {
      "cell_type": "code",
      "metadata": {
        "id": "7bhCkXJaONUQ",
        "colab": {
          "base_uri": "https://localhost:8080/"
        },
        "outputId": "f8d7d438-f0fb-44af-c15e-f4a4334f7201"
      },
      "source": [
        "a = 5\n",
        "print(f'I earn {a}%')"
      ],
      "execution_count": 13,
      "outputs": [
        {
          "output_type": "stream",
          "name": "stdout",
          "text": [
            "I earn 5%\n"
          ]
        }
      ]
    },
    {
      "cell_type": "markdown",
      "metadata": {
        "id": "8nvpKyTybXke"
      },
      "source": [
        "# - Question 30"
      ]
    },
    {
      "cell_type": "markdown",
      "metadata": {
        "id": "ublRqqYebXke"
      },
      "source": [
        "### solution 30.1 (recommend)"
      ]
    },
    {
      "cell_type": "code",
      "metadata": {
        "colab": {
          "base_uri": "https://localhost:8080/"
        },
        "id": "ukWzr8sObXke",
        "outputId": "6d3fa4a1-b988-471f-a71d-cec55e82c6c0"
      },
      "source": [
        "a = 2\n",
        "b = 3.5\n",
        "print('Yesterday I lost %d%% today I made %.2f%% profit' %(a, b))"
      ],
      "execution_count": null,
      "outputs": [
        {
          "output_type": "stream",
          "name": "stdout",
          "text": [
            "Yesterday I lost 2% today I made 3.50% profit\n"
          ]
        }
      ]
    },
    {
      "cell_type": "markdown",
      "metadata": {
        "id": "aNCXTX6JbXkf"
      },
      "source": [
        "### solution 30.2"
      ]
    },
    {
      "cell_type": "code",
      "metadata": {
        "colab": {
          "base_uri": "https://localhost:8080/"
        },
        "id": "Cnq3wxbKbXkf",
        "outputId": "88baaa1c-92c4-41fa-8815-69fcfda8a6b4"
      },
      "source": [
        "a = 2\n",
        "b = 3.5\n",
        "print(\"Yesterday I lost %d%% today I made %.2f%% profit\" %(a, b))"
      ],
      "execution_count": null,
      "outputs": [
        {
          "output_type": "stream",
          "name": "stdout",
          "text": [
            "Yesterday I lost 2% today I made 3.50% profit\n"
          ]
        }
      ]
    },
    {
      "cell_type": "markdown",
      "metadata": {
        "id": "wqJinX3uOPtT"
      },
      "source": [
        "### solution 30.3"
      ]
    },
    {
      "cell_type": "code",
      "metadata": {
        "id": "LLPciGoJORIp",
        "colab": {
          "base_uri": "https://localhost:8080/"
        },
        "outputId": "5941b2b0-7e2e-49bb-a226-b8c49c618ce0"
      },
      "source": [
        "a = 2\n",
        "b = 3.5\n",
        "print(f'Yesterday I lost {a}% today I made {b:.2f}% profit')"
      ],
      "execution_count": 14,
      "outputs": [
        {
          "output_type": "stream",
          "name": "stdout",
          "text": [
            "Yesterday I lost 2% today I made 3.50% profit\n"
          ]
        }
      ]
    },
    {
      "cell_type": "code",
      "metadata": {
        "id": "upc2s9plUuCz"
      },
      "source": [
        ""
      ],
      "execution_count": null,
      "outputs": []
    }
  ]
}