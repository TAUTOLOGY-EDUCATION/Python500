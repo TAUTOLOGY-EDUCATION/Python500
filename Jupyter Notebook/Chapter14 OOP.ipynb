{
  "nbformat": 4,
  "nbformat_minor": 0,
  "metadata": {
    "colab": {
      "name": "Chapter14 OOP.ipynb",
      "provenance": [],
      "collapsed_sections": []
    },
    "kernelspec": {
      "name": "python3",
      "display_name": "Python 3"
    }
  },
  "cells": [
    {
      "cell_type": "markdown",
      "metadata": {
        "id": "n-lRlkI9usMz"
      },
      "source": [
        "# Question 1"
      ]
    },
    {
      "cell_type": "code",
      "metadata": {
        "id": "ig1UwI5Suoh6"
      },
      "source": [
        "class People :\n",
        "  def __init__(self, name, age):\n",
        "    self.name = name\n",
        "    self.age = age\n",
        "  \n",
        "  def introduce(self):\n",
        "    print('My name is', self.name, end='. ')\n",
        "    print(\"I'm \", self.age, ' years old.')"
      ],
      "execution_count": null,
      "outputs": []
    },
    {
      "cell_type": "code",
      "metadata": {
        "colab": {
          "base_uri": "https://localhost:8080/"
        },
        "id": "BFtjrJ7Ev99C",
        "outputId": "ac495ff8-7f7b-4228-98e8-aa7c46aa84cd"
      },
      "source": [
        "John = People('John', 23)\n",
        "John.introduce()"
      ],
      "execution_count": null,
      "outputs": [
        {
          "output_type": "stream",
          "name": "stdout",
          "text": [
            "My name is John. I'm  23  years old.\n"
          ]
        }
      ]
    },
    {
      "cell_type": "markdown",
      "metadata": {
        "id": "kiQRKtC0uv6v"
      },
      "source": [
        "# Question 2"
      ]
    },
    {
      "cell_type": "code",
      "metadata": {
        "id": "Ffhl9dR8uxSi"
      },
      "source": [
        "class Human :\n",
        "  def __init__(self, name, age):\n",
        "    self.name = name\n",
        "    self.age = age\n",
        "  \n",
        "  def aging(self, years) :\n",
        "    print('Before :', self.age, 'years old')\n",
        "    self.age = self.age + years\n",
        "    print('After :', self.age, 'years old')"
      ],
      "execution_count": null,
      "outputs": []
    },
    {
      "cell_type": "code",
      "metadata": {
        "colab": {
          "base_uri": "https://localhost:8080/"
        },
        "id": "tDrGG7xfx0Ff",
        "outputId": "aa414b2f-e3fe-4f9f-d937-a074f4bacefd"
      },
      "source": [
        "John = Human('John', 23)\n",
        "John.aging(10)"
      ],
      "execution_count": null,
      "outputs": [
        {
          "output_type": "stream",
          "name": "stdout",
          "text": [
            "Before : 23 years old\n",
            "After : 33 years old\n"
          ]
        }
      ]
    },
    {
      "cell_type": "markdown",
      "metadata": {
        "id": "4_mN6ouUvOWt"
      },
      "source": [
        "# Question 3"
      ]
    },
    {
      "cell_type": "code",
      "metadata": {
        "id": "SpS51UIxvPfA"
      },
      "source": [
        "class ComplexNumber :\n",
        "  def __init__(self, r, i):\n",
        "    self.r = r\n",
        "    self.i = i\n",
        "\n",
        "  def get_value(self):\n",
        "    print(f'{self.r} + {self.i}i')"
      ],
      "execution_count": 1,
      "outputs": []
    },
    {
      "cell_type": "code",
      "metadata": {
        "colab": {
          "base_uri": "https://localhost:8080/"
        },
        "id": "yeW4IU0h1XPu",
        "outputId": "9973fcd9-83a2-4f2b-8e60-58fd831bc44e"
      },
      "source": [
        "Z = ComplexNumber(2, 4)\n",
        "Z.get_value()"
      ],
      "execution_count": 2,
      "outputs": [
        {
          "output_type": "stream",
          "name": "stdout",
          "text": [
            "2 + 4i\n"
          ]
        }
      ]
    },
    {
      "cell_type": "markdown",
      "metadata": {
        "id": "wDWub1xHvP8V"
      },
      "source": [
        "# Question 4"
      ]
    },
    {
      "cell_type": "code",
      "metadata": {
        "id": "l-5NSJrkvQ-N"
      },
      "source": [
        "class Circle :\n",
        "  def __init__(self, radius):\n",
        "    self.radius = radius\n",
        "  \n",
        "  def get_area(self):\n",
        "    import math\n",
        "    return math.pi*self.radius**2\n",
        "  \n",
        "  def get_perimeter(self):\n",
        "    import math\n",
        "    return 2*math.pi*self.radius"
      ],
      "execution_count": null,
      "outputs": []
    },
    {
      "cell_type": "code",
      "metadata": {
        "colab": {
          "base_uri": "https://localhost:8080/"
        },
        "id": "E7_JBy9s3tTp",
        "outputId": "84937e64-9f1a-465c-a0e7-2ceaea210a29"
      },
      "source": [
        "circle_A = Circle(32)\n",
        "circle_B = Circle(16)\n",
        "print(\"Area Circle A :\", circle_A.get_area())\n",
        "print(\"Perimeter Circle A :\", circle_A.get_perimeter())\n",
        "print(\"Area Circle B :\", circle_B.get_area())\n",
        "print(\"Perimeter Circle B :\", circle_B.get_perimeter())"
      ],
      "execution_count": null,
      "outputs": [
        {
          "output_type": "stream",
          "name": "stdout",
          "text": [
            "Area Circle A : 3216.990877275948\n",
            "Perimeter Circle A : 201.06192982974676\n",
            "Area Circle B : 804.247719318987\n",
            "Perimeter Circle B : 100.53096491487338\n"
          ]
        }
      ]
    },
    {
      "cell_type": "markdown",
      "metadata": {
        "id": "xq1fd77u0YI1"
      },
      "source": [
        "# Question 5"
      ]
    },
    {
      "cell_type": "code",
      "metadata": {
        "id": "p4KuwEQE0ZN3"
      },
      "source": [
        "class Book :\n",
        "  def __init__(self, book_name, book_status='available'):\n",
        "    self.book_name = book_name\n",
        "    self.book_status = book_status\n",
        "\n",
        "  def borrow_book(self):\n",
        "    if self.book_status == 'available':\n",
        "      print('borrow successfully')\n",
        "      self.book_status = 'unavailable'\n",
        "    else :\n",
        "      print('borrow unsuccessfully')\n",
        "  \n",
        "  def return_book(self):\n",
        "    if self.book_status == 'unavailable':\n",
        "      print('return successfully')\n",
        "      self.book_status = 'available'\n",
        "    else :\n",
        "      print('return unsuccessfully')  "
      ],
      "execution_count": null,
      "outputs": []
    },
    {
      "cell_type": "code",
      "metadata": {
        "colab": {
          "base_uri": "https://localhost:8080/"
        },
        "id": "3kt5CUlF5v49",
        "outputId": "e285354a-2484-4224-c767-423f31637d13"
      },
      "source": [
        "Book_A = Book('AI Superpowers')\n",
        "print('Book status :', Book_A.book_status)\n",
        "Book_A.borrow_book()\n",
        "print('Book status :', Book_A.book_status)\n",
        "Book_A.return_book()\n",
        "print('Book status :', Book_A.book_status)"
      ],
      "execution_count": null,
      "outputs": [
        {
          "output_type": "stream",
          "name": "stdout",
          "text": [
            "Book status : available\n",
            "borrow successfully\n",
            "Book status : unavailable\n",
            "return successfully\n",
            "Book status : available\n"
          ]
        }
      ]
    },
    {
      "cell_type": "markdown",
      "metadata": {
        "id": "Y8oMknOc0Zn-"
      },
      "source": [
        "# Question 6"
      ]
    },
    {
      "cell_type": "code",
      "metadata": {
        "id": "hgU5d_K70a3X"
      },
      "source": [
        "class Car :\n",
        "  def __init__(self, brand, model, year, color):\n",
        "    self.brand = brand\n",
        "    self.model = model\n",
        "    self.year = year\n",
        "    self.color = color\n",
        "  \n",
        "  def new_color(self, color) :\n",
        "    self.color = color"
      ],
      "execution_count": null,
      "outputs": []
    },
    {
      "cell_type": "code",
      "metadata": {
        "id": "Cl5tltSu75sO",
        "colab": {
          "base_uri": "https://localhost:8080/"
        },
        "outputId": "2293d178-0cdc-4487-8783-90a5e66f6e03"
      },
      "source": [
        "car_A = Car('Honda', 'Civic', '2019', 'Black')\n",
        "car_A.new_color('Red')\n",
        "print('color =', car_A.color)"
      ],
      "execution_count": null,
      "outputs": [
        {
          "output_type": "stream",
          "name": "stdout",
          "text": [
            "color = Red\n"
          ]
        }
      ]
    },
    {
      "cell_type": "markdown",
      "metadata": {
        "id": "TuhPr4-d0bnA"
      },
      "source": [
        "# Question 7"
      ]
    },
    {
      "cell_type": "code",
      "metadata": {
        "id": "UTd93Hix0cm4"
      },
      "source": [
        "class Dog :\n",
        "  def __init__(self, breed, color, height, weight):\n",
        "    self.breed = breed\n",
        "    self.color = color\n",
        "    self.height = height\n",
        "    self.weight = weight\n",
        "  \n",
        "  def growth(self):\n",
        "    self.height = self.height*1.1\n",
        "    self.weight = self.weight*1.1"
      ],
      "execution_count": null,
      "outputs": []
    },
    {
      "cell_type": "code",
      "metadata": {
        "colab": {
          "base_uri": "https://localhost:8080/"
        },
        "id": "XlasROAQE8qB",
        "outputId": "7ec48f27-2325-4457-a360-576dfb1af4e2"
      },
      "source": [
        "dog_A = Dog('Jack Russell Terrier', 'White', 30, 7)\n",
        "dog_A.growth()\n",
        "print('height =', dog_A.height)\n",
        "print('weight =', dog_A.weight)"
      ],
      "execution_count": null,
      "outputs": [
        {
          "output_type": "stream",
          "name": "stdout",
          "text": [
            "height = 33.0\n",
            "weight = 7.700000000000001\n"
          ]
        }
      ]
    },
    {
      "cell_type": "markdown",
      "metadata": {
        "id": "p9d15VVO0dHK"
      },
      "source": [
        "# Question 8"
      ]
    },
    {
      "cell_type": "code",
      "metadata": {
        "id": "_QUPhqz60eMb"
      },
      "source": [
        "class Stats :\n",
        "  def __init__ (self, data):\n",
        "    self.data = data\n",
        "  \n",
        "  def mean(self):\n",
        "    mean = sum(self.data) / len(self.data)\n",
        "    return mean\n",
        "\n",
        "  def min(self):\n",
        "    _min = min(self.data)\n",
        "    return _min\n",
        "  \n",
        "  def max(self):\n",
        "    _max = max(self.data)\n",
        "    return _max\n",
        "  \n",
        "  def summary(self):\n",
        "    print(\"Mean :\", self.mean())\n",
        "    print(\"Min :\", self.min())\n",
        "    print(\"Max :\", self.max())"
      ],
      "execution_count": null,
      "outputs": []
    },
    {
      "cell_type": "code",
      "metadata": {
        "colab": {
          "base_uri": "https://localhost:8080/"
        },
        "id": "lxHFIi40Bfkt",
        "outputId": "4bde0e9a-ec24-4813-ec7c-e8f9086ec27f"
      },
      "source": [
        "A = [1,3,5,7,9,11]\n",
        "stat_A = Stats(A)\n",
        "stat_A.summary()"
      ],
      "execution_count": null,
      "outputs": [
        {
          "output_type": "stream",
          "name": "stdout",
          "text": [
            "Mean : 6.0\n",
            "Min : 1\n",
            "Max : 11\n"
          ]
        }
      ]
    },
    {
      "cell_type": "markdown",
      "metadata": {
        "id": "WwTZbF630es_"
      },
      "source": [
        "# Question 9"
      ]
    },
    {
      "cell_type": "code",
      "metadata": {
        "id": "59hHg_ei0ftd"
      },
      "source": [
        "class EURUSD :\n",
        "  def __init__(self, amount, currency):\n",
        "    self.amount = amount\n",
        "    self.currency = currency\n",
        "  \n",
        "  def to_EUR(self):\n",
        "    if self.currency == 'USD' :\n",
        "      self.currency = 'EUR'\n",
        "      self.amount = self.amount / 1.18\n",
        "      return self.amount\n",
        "    else :\n",
        "      return self.amount\n",
        "  \n",
        "  def to_USD(self):\n",
        "    if self.currency == 'EUR' :\n",
        "      self.currency = 'USD'\n",
        "      self.amount = self.amount * 1.18\n",
        "      return self.amount\n",
        "    else :\n",
        "      return self.amount  "
      ],
      "execution_count": null,
      "outputs": []
    },
    {
      "cell_type": "code",
      "metadata": {
        "colab": {
          "base_uri": "https://localhost:8080/"
        },
        "id": "zRLX_fLsDeXK",
        "outputId": "90d21a7d-34ff-4e23-fd07-e9004979fba4"
      },
      "source": [
        "money = EURUSD(3000, 'EUR')\n",
        "print(money.amount, money.currency)\n",
        "money.to_USD()\n",
        "print(money.amount, money.currency)\n",
        "money.to_EUR()\n",
        "print(money.amount, money.currency)"
      ],
      "execution_count": null,
      "outputs": [
        {
          "output_type": "stream",
          "name": "stdout",
          "text": [
            "3000 EUR\n",
            "3540.0 USD\n",
            "3000.0 EUR\n"
          ]
        }
      ]
    },
    {
      "cell_type": "markdown",
      "metadata": {
        "id": "Yi0YWHWC0hao"
      },
      "source": [
        "# Question 10"
      ]
    },
    {
      "cell_type": "code",
      "metadata": {
        "id": "6z4L5_BH0if8"
      },
      "source": [
        "class Cashier :\n",
        "  def __init__(self, products) :\n",
        "    self.products = products\n",
        "  \n",
        "  def recommend(self) :\n",
        "    str_product = ', '.join(self.products)\n",
        "    print(f'We have {str_product}.')"
      ],
      "execution_count": 3,
      "outputs": []
    },
    {
      "cell_type": "code",
      "metadata": {
        "colab": {
          "base_uri": "https://localhost:8080/"
        },
        "id": "Kc_DaE1W5Gym",
        "outputId": "a4daaa80-4e04-4c57-d94a-4965d13e632c"
      },
      "source": [
        "cashier = Cashier(['apple', 'banana', 'orange'])\n",
        "cashier.recommend()"
      ],
      "execution_count": 4,
      "outputs": [
        {
          "output_type": "stream",
          "name": "stdout",
          "text": [
            "We have apple, banana, orange.\n"
          ]
        }
      ]
    },
    {
      "cell_type": "markdown",
      "metadata": {
        "id": "pvj5fZZU0jEQ"
      },
      "source": [
        "# Question 11"
      ]
    },
    {
      "cell_type": "code",
      "metadata": {
        "id": "cSY_KZkR0kA2"
      },
      "source": [
        "class Warrior :\n",
        "  def __init__(self, power, defense, HP) :\n",
        "    self.power = power\n",
        "    self.defense = defense\n",
        "    self.HP = HP\n",
        "  \n",
        "  def attack(self, enemy) :\n",
        "    if enemy.HP > 0 and self.HP > 0:\n",
        "      enemy.HP = max(0, enemy.HP - max(0, self.power - enemy.defense))\n",
        "    if enemy.HP == 0 :\n",
        "      print(\"Enemy died\")"
      ],
      "execution_count": null,
      "outputs": []
    },
    {
      "cell_type": "code",
      "metadata": {
        "colab": {
          "base_uri": "https://localhost:8080/"
        },
        "id": "JS6j0952xUQl",
        "outputId": "004585ea-d30f-406d-86a4-55c9a2f512ab"
      },
      "source": [
        "Warrior_A = Warrior(100,50,80)\n",
        "Warrior_B = Warrior(60, 80, 120)\n",
        "print('=== Before Attack ===')\n",
        "print('Warrior_A HP =', Warrior_A.HP)  \n",
        "print('Warrior_B HP =', Warrior_B.HP)\n",
        "Warrior_A.attack(Warrior_B)\n",
        "Warrior_B.attack(Warrior_A)\n",
        "print('=== After Attack ===')\n",
        "print('Warrior_A HP =', Warrior_A.HP)  \n",
        "print('Warrior_B HP =', Warrior_B.HP)"
      ],
      "execution_count": null,
      "outputs": [
        {
          "output_type": "stream",
          "name": "stdout",
          "text": [
            "=== Before Attack ===\n",
            "Warrior_A HP = 80\n",
            "Warrior_B HP = 120\n",
            "=== After Attack ===\n",
            "Warrior_A HP = 70\n",
            "Warrior_B HP = 100\n"
          ]
        }
      ]
    },
    {
      "cell_type": "markdown",
      "metadata": {
        "id": "04bx9dup0klE"
      },
      "source": [
        "# Question 12"
      ]
    },
    {
      "cell_type": "code",
      "metadata": {
        "id": "2NC6TY4b0lhj"
      },
      "source": [
        "class Point :\n",
        "  def __init__(self, x, y):\n",
        "    self.x = x\n",
        "    self.y = y\n",
        "    print('Current position : (%d,%d)' %(self.x, self.y))\n",
        "  \n",
        "  def move_up(self, d):\n",
        "    self.y = self.y + d\n",
        "    print('Current position : (%d,%d)' %(self.x, self.y))\n",
        "\n",
        "  def move_down(self, d):\n",
        "    self.y = self.y - d\n",
        "    print('Current position : (%d,%d)' %(self.x, self.y))\n",
        "\n",
        "  def move_left(self, d):\n",
        "    self.x = self.x - d\n",
        "    print('Current position : (%d,%d)' %(self.x, self.y))\n",
        "\n",
        "  def move_right(self, d):\n",
        "    self.x = self.x + d\n",
        "    print('Current position : (%d,%d)' %(self.x, self.y))"
      ],
      "execution_count": null,
      "outputs": []
    },
    {
      "cell_type": "code",
      "metadata": {
        "colab": {
          "base_uri": "https://localhost:8080/"
        },
        "id": "t2uIM6MzFcdj",
        "outputId": "70ea4a2b-962b-4012-d371-5170bf8a8eab"
      },
      "source": [
        "A = Point(0,0)\n",
        "A.move_up(20)\n",
        "A.move_left(23)\n",
        "A.move_down(65)\n",
        "A.move_right(50)"
      ],
      "execution_count": null,
      "outputs": [
        {
          "output_type": "stream",
          "name": "stdout",
          "text": [
            "Current position : (0,0)\n",
            "Current position : (0,20)\n",
            "Current position : (-23,20)\n",
            "Current position : (-23,-45)\n",
            "Current position : (27,-45)\n"
          ]
        }
      ]
    },
    {
      "cell_type": "markdown",
      "metadata": {
        "id": "79zvRQGq0mDA"
      },
      "source": [
        "# Question 13"
      ]
    },
    {
      "cell_type": "code",
      "metadata": {
        "id": "KZgrvyuF0m6v"
      },
      "source": [
        "class Businessman :\n",
        "  def __init__(self, HP, money, happiness):\n",
        "    self.HP = HP\n",
        "    self.money = money\n",
        "    self.happiness = happiness\n",
        "    self.report()\n",
        "  \n",
        "  def work(self):\n",
        "    self.money = self.money + 20\n",
        "    self.happiness = self.happiness + 10\n",
        "    self.HP = self.HP - 10\n",
        "  \n",
        "  def sleep(self):\n",
        "    self.money = self.money - 10\n",
        "    self.HP = self.HP + 20\n",
        "    self.happiness = self.happiness + 10\n",
        "  \n",
        "  def play(self):\n",
        "    self.happiness = self.happiness + 20\n",
        "    self.HP = self.HP - 10\n",
        "    self.money = self.money - 10\n",
        "  \n",
        "  def report(self):\n",
        "    print('HP = ', self.HP, ', Money = ', self.money, ', Happiness = ', self.happiness)"
      ],
      "execution_count": 11,
      "outputs": []
    },
    {
      "cell_type": "code",
      "metadata": {
        "colab": {
          "base_uri": "https://localhost:8080/"
        },
        "id": "tx4LR1w5rKXE",
        "outputId": "538d5045-1003-43af-b90a-c167cee4a257"
      },
      "source": [
        "John = Businessman(100,100,100)\n",
        "John.work()\n",
        "John.report()\n",
        "John.play()\n",
        "John.report()\n",
        "John.sleep()\n",
        "John.report()"
      ],
      "execution_count": 12,
      "outputs": [
        {
          "output_type": "stream",
          "name": "stdout",
          "text": [
            "HP =  100 , Money =  100 , Happiness =  100\n",
            "HP =  90 , Money =  120 , Happiness =  110\n",
            "HP =  80 , Money =  110 , Happiness =  130\n",
            "HP =  100 , Money =  100 , Happiness =  140\n"
          ]
        }
      ]
    },
    {
      "cell_type": "markdown",
      "metadata": {
        "id": "bK6w2Dqo0neI"
      },
      "source": [
        "# Question 14"
      ]
    },
    {
      "cell_type": "code",
      "metadata": {
        "id": "X_rm6t4r0oWZ"
      },
      "source": [
        "class Driver :\n",
        "  def __init__(self, HP, generated_money):\n",
        "    self.HP = HP\n",
        "    self.generated_money = generated_money\n",
        "  \n",
        "  def drive(self):\n",
        "    self.HP = self.HP - 10\n",
        "    self.generated_money = self.generated_money + 10\n",
        "  \n",
        "  def care(self):\n",
        "    self.HP = self.HP + 10\n",
        "    self.generated_money = self.generated_money - 10\n",
        "  \n",
        "  def report(self):\n",
        "    print('HP = ', self.HP, ', Generated Money = ', self.generated_money)"
      ],
      "execution_count": 7,
      "outputs": []
    },
    {
      "cell_type": "code",
      "metadata": {
        "colab": {
          "base_uri": "https://localhost:8080/"
        },
        "id": "-fLZXy4Rv5an",
        "outputId": "3c2029de-d104-42aa-8b88-7037d2790b54"
      },
      "source": [
        "driver_A = Driver(100,100)\n",
        "driver_A.drive()\n",
        "driver_A.report()\n",
        "driver_A.care()\n",
        "driver_A.report()"
      ],
      "execution_count": 8,
      "outputs": [
        {
          "output_type": "stream",
          "name": "stdout",
          "text": [
            "HP =  90 , Generated Money =  110\n",
            "HP =  100 , Generated Money =  100\n"
          ]
        }
      ]
    },
    {
      "cell_type": "markdown",
      "metadata": {
        "id": "-QWH9Wd60oxy"
      },
      "source": [
        "# Question 15"
      ]
    },
    {
      "cell_type": "code",
      "metadata": {
        "id": "PonKhRkR0qAA"
      },
      "source": [
        "class Tree :\n",
        "  def __init__(self, height, width, generated_money) :\n",
        "    self.height = height\n",
        "    self.width = width\n",
        "    self.generated_money = generated_money\n",
        "  \n",
        "  def feed_A(self) :\n",
        "    self.generated_money = self.generated_money - 10\n",
        "    self.width = self.width + 12\n",
        "  \n",
        "  def feed_B(self) :\n",
        "    self.generated_money = self.generated_money - 8  \n",
        "    self.height = self.height + 10\n",
        "  \n",
        "  def sell(self) :\n",
        "    self.generated_money = self.generated_money + self.width * self.height ** 0.8\n",
        "    print('Width =', self.width,', Height =', self.height)\n",
        "    print('Generated money =', self.generated_money)"
      ],
      "execution_count": null,
      "outputs": []
    },
    {
      "cell_type": "code",
      "metadata": {
        "colab": {
          "base_uri": "https://localhost:8080/"
        },
        "id": "e8qQpDmK0oOV",
        "outputId": "b049707d-6113-4282-c604-483d771e3a1b"
      },
      "source": [
        "tree_A = Tree(10,10, 1000)\n",
        "tree_A.feed_A()\n",
        "tree_A.feed_B()\n",
        "tree_A.sell()"
      ],
      "execution_count": null,
      "outputs": [
        {
          "output_type": "stream",
          "name": "stdout",
          "text": [
            "Width = 22 , Height = 20\n",
            "Generated money = 1223.683319527346\n"
          ]
        }
      ]
    },
    {
      "cell_type": "code",
      "metadata": {
        "id": "5n3SC5rVefOk"
      },
      "source": [
        ""
      ],
      "execution_count": null,
      "outputs": []
    }
  ]
}